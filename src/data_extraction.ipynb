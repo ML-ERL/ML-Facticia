{
 "cells": [
  {
   "cell_type": "markdown",
   "metadata": {},
   "source": [
    "# Model Training"
   ]
  },
  {
   "cell_type": "code",
   "execution_count": 1,
   "metadata": {},
   "outputs": [],
   "source": [
    "# Preload basic model\n",
    "\n",
    "from ultralytics import YOLO\n",
    "\n",
    "model = YOLO('yolo11n-obb.pt')"
   ]
  },
  {
   "cell_type": "code",
   "execution_count": 2,
   "metadata": {},
   "outputs": [],
   "source": [
    "# Load datasets\n",
    "\n",
    "from dataset_loader import get_dataset_from_file\n",
    "\n",
    "data_path = \"../dataset/facticia_3\"\n",
    "\n",
    "get_dataset_from_file(data_path) # Import dataset from file"
   ]
  },
  {
   "cell_type": "code",
   "execution_count": null,
   "metadata": {},
   "outputs": [],
   "source": [
    "# Hyperparameter tunning\n",
    "from ultralytics import YOLO\n",
    "from ray import tune\n",
    "\n",
    "dataset = \"../dataset/data.yaml\"\n",
    "\n",
    "# Define search space\n",
    "search_space = {\n",
    "    \"lr0\": tune.uniform(1e-5, 1e-1),\n",
    "    \"batch\": tune.choice([8, 16, 32]),\n",
    "    \"epochs\": tune.choice([32, 64, 128]), \n",
    "}\n",
    "\n",
    "def train_model(config):\n",
    "    model = YOLO('yolo11n-obb.pt')\n",
    "    model.train(data=dataset, epochs=config['epochs'], batch=config['batch'], lr0=config['lro'])\n",
    "    \n",
    "analysis = tune.run(\n",
    "    train_model,\n",
    "    config=search_space,\n",
    "    num_samples=10,\n",
    "    resources_per_trial={\"cpu\":4, \"gpu\":1},\n",
    "    storage_path=\"/home/danieltm/Documents/MATCOM/4A 1S/ML/ML-Facticia/src/ray_output\"\n",
    ")\n",
    "\n",
    "print(\"Best config: \", analysis.get_best_config(metric=\"mean_accuracy\", mode=\"max\"))"
   ]
  },
  {
   "cell_type": "code",
   "execution_count": null,
   "metadata": {},
   "outputs": [],
   "source": [
    "# Train model\n",
    "\n",
    "dataset = \"../dataset/data.yaml\"\n",
    "\n",
    "model.train(epochs=1, data=dataset, batch=2)\n",
    "\n",
    "# results = model.val()"
   ]
  }
 ],
 "metadata": {
  "kernelspec": {
   "display_name": "base",
   "language": "python",
   "name": "python3"
  },
  "language_info": {
   "codemirror_mode": {
    "name": "ipython",
    "version": 3
   },
   "file_extension": ".py",
   "mimetype": "text/x-python",
   "name": "python",
   "nbconvert_exporter": "python",
   "pygments_lexer": "ipython3",
   "version": "3.12.2"
  }
 },
 "nbformat": 4,
 "nbformat_minor": 2
}
