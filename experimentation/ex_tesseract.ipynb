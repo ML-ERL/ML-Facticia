{
 "cells": [
  {
   "cell_type": "code",
   "execution_count": 3,
   "metadata": {},
   "outputs": [],
   "source": [
    "import os, sys\n",
    "\n",
    "import numpy as np\n",
    "\n",
    "# Change directory\n",
    "os.getcwd().split('/')[-1] == \"experimentation\" and os.chdir('../')\n",
    "    \n",
    "\n",
    "# Import the full model\n",
    "from src.text_processor import *\n",
    "from src.text_postprocessor import *\n",
    "\n",
    "from src.full_model import FullModel"
   ]
  },
  {
   "cell_type": "code",
   "execution_count": 4,
   "metadata": {},
   "outputs": [
    {
     "name": "stdout",
     "output_type": "stream",
     "text": [
      "['.pre-commit-config.yml', '.DS_Store', 'README.md', '.gitignore', 'src', '.git', 'main.py', 'documentation', 'experimentation', 'dataset', 'LICENSE', '.env', 'training-models']\n",
      "/home/danieltm/Documents/MATCOM/4A 1S/ML/ML-Facticia\n"
     ]
    }
   ],
   "source": [
    "print(os.listdir())\n",
    "print(os.getcwd())"
   ]
  },
  {
   "cell_type": "code",
   "execution_count": null,
   "metadata": {},
   "outputs": [],
   "source": [
    "def jaccard_similarity(t1, t2):\n",
    "    \"\"\"\n",
    "    Calculates the Jaccard similarity between two texts.\n",
    "    \n",
    "    Parameters:\n",
    "    text1 (str): First text.\n",
    "    text2 (str): Second text.\n",
    "    \n",
    "    Returns:\n",
    "    float: Jaccard similarity between the two texts (value between 0 and 1).\n",
    "    \"\"\"\n",
    "    # Convert texts into sets of words\n",
    "    set1 = set(t1.lower().split())\n",
    "    set2 = set(t2.lower().split())\n",
    "    \n",
    "    # Calculate intersection and union of the sets\n",
    "    intersection = set1.intersection(set2)\n",
    "    union = set1.union(set2)\n",
    "    \n",
    "    # Calculate Jaccard similarity\n",
    "    if len(union) == 0:\n",
    "        return 0.0\n",
    "    else:\n",
    "        return len(intersection) / len(union)"
   ]
  },
  {
   "cell_type": "code",
   "execution_count": null,
   "metadata": {},
   "outputs": [],
   "source": [
    "def read_text(path):\n",
    "    return \" \""
   ]
  },
  {
   "cell_type": "code",
   "execution_count": null,
   "metadata": {},
   "outputs": [],
   "source": [
    "precision = 3\n",
    "crops_path = \"./dataset/crops/\"\n",
    "\n",
    "directory = [i.split('.')[-2] for i in os.listdir(f\"{crops_path}/images\")]\n",
    "\n",
    "images = [f\"{crops_path}/images/{item}.jpg\" for item in directory]\n",
    "texts = [read_text(f\"{crops_path}/texts/{item}.txt\") for item in directory]\n",
    "\n",
    "results = parametric_search(images)\n",
    "\n",
    "len0 = len(results)\n",
    "len1 = len(results[0])\n",
    "\n",
    "mt = np.zeros((len0, len1))\n",
    "\n",
    "for i in range(len(results)):\n",
    "    \n",
    "    real_text = texts[i]\n",
    "    \n",
    "    for j in range(len(results[0])):\n",
    "        \n",
    "        mt[i, j] = jaccard_similarity(real_text, results[i][j])\n",
    "        print(f\"{mt[i, j]:.{precision}f} \")\n",
    "        \n",
    "    print(\"\\n\")"
   ]
  }
 ],
 "metadata": {
  "kernelspec": {
   "display_name": "base",
   "language": "python",
   "name": "python3"
  },
  "language_info": {
   "codemirror_mode": {
    "name": "ipython",
    "version": 3
   },
   "file_extension": ".py",
   "mimetype": "text/x-python",
   "name": "python",
   "nbconvert_exporter": "python",
   "pygments_lexer": "ipython3",
   "version": "3.12.2"
  }
 },
 "nbformat": 4,
 "nbformat_minor": 2
}
