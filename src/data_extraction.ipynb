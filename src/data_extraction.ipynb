{
 "cells": [
  {
   "cell_type": "markdown",
   "metadata": {},
   "source": [
    "# Model Training"
   ]
  },
  {
   "cell_type": "code",
   "execution_count": 2,
   "metadata": {},
   "outputs": [
    {
     "name": "stdout",
     "output_type": "stream",
     "text": [
      "CUDA is available\n",
      "Torch version:  2.5.1\n",
      "cuda is available:  True\n"
     ]
    }
   ],
   "source": [
    "from dataset_loader import get_dataset_from_file, clear\n",
    "from ultralytics import YOLO\n",
    "\n",
    "data_path = \"../dataset/facticia_3\"\n",
    "clear()\n",
    "get_dataset_from_file(data_path)  # Import dataset from file\n",
    "\n",
    "\n",
    "# Train model\n",
    "model = YOLO(\"yolo11n-obb.pt\")\n",
    "\n",
    "dataset = \"../dataset/data.yaml\"\n",
    "\n",
    "model.train(\n",
    "    data=dataset,\n",
    "    project=\"C:\\Osvaldo/4.1/Machine Learning/ML-Facticia/dataset/training\",\n",
    "    name=\"cf_erl\",\n",
    "    device=\"cuda\",\n",
    ")"
   ]
  }
 ],
 "metadata": {
  "kernelspec": {
   "display_name": "base",
   "language": "python",
   "name": "python3"
  },
  "language_info": {
   "codemirror_mode": {
    "name": "ipython",
    "version": 3
   },
   "file_extension": ".py",
   "mimetype": "text/x-python",
   "name": "python",
   "nbconvert_exporter": "python",
   "pygments_lexer": "ipython3",
   "version": "3.11.10"
  }
 },
 "nbformat": 4,
 "nbformat_minor": 2
}
