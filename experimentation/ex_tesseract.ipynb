{
 "cells": [
  {
   "cell_type": "code",
   "execution_count": null,
   "metadata": {},
   "outputs": [],
   "source": [
    "import os\n",
    "\n",
    "# Set the execution path\n",
    "os.chdir('../')\n",
    "\n",
    "# Import the full model\n",
    "from src.text_processor import *\n",
    "from src.text_preprocessor import *\n",
    "\n",
    "from src.full_model import FullModel"
   ]
  },
  {
   "cell_type": "code",
   "execution_count": null,
   "metadata": {},
   "outputs": [],
   "source": []
  }
 ],
 "metadata": {
  "language_info": {
   "name": "python"
  }
 },
 "nbformat": 4,
 "nbformat_minor": 2
}
