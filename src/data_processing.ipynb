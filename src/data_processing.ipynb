{
 "cells": [
  {
   "cell_type": "markdown",
   "metadata": {},
   "source": [
    "# Image and text Extraction"
   ]
  },
  {
   "cell_type": "code",
   "execution_count": 2,
   "metadata": {},
   "outputs": [
    {
     "name": "stdout",
     "output_type": "stream",
     "text": [
      "\n",
      "image 1/1 /home/danieltm/Documents/MATCOM/4A 1S/ML/ML-Facticia/src/../dataset/facticia_3_2/images/4c76a3e4-ohcbh_cf_erl8_204.jpg: 1024x704 111.9ms\n",
      "Speed: 6.1ms preprocess, 111.9ms inference, 1.5ms postprocess per image at shape (1, 3, 1024, 704)\n",
      "LA REMODELACION\n",
      "DE LA HABANA\n",
      "\n",
      "Vista Genreal de la Alameda de Paula,\n",
      "después de su restauración.\n",
      "\n",
      "Vista general de la Plaza de Agua Dulce.\n",
      "\n",
      "Vista del Paso Superior construido por\n",
      "\n",
      "la Dirección Ceneral de Ingemieros del\n",
      "\n",
      "Ministerio de Obras Públicas en la barriada\n",
      "de Luyano.\n",
      "\n",
      "- a a\n",
      "SN A a\n",
      "\n"
     ]
    }
   ],
   "source": [
    "from image_processor import extract_image\n",
    "from text_processor import extract_text\n",
    "from ultralytics import YOLO\n",
    "from data_format import DataFormat\n",
    "\n",
    "import json, os\n",
    "\n",
    "# classes: 0-Caption 1-Handwritting 2-Image 3-Text\n",
    "\n",
    "data_path = \"../dataset/facticia_3_2/\"\n",
    "export_path = \"../dataset/results/\"\n",
    "\n",
    "filename = \"4c76a3e4-ohcbh_cf_erl8_204\"\n",
    "\n",
    "image_path = f\"{data_path}/images/{filename}.jpg\"\n",
    "\n",
    "model = YOLO(\"detection/best.pt\")\n",
    "\n",
    "result = model(image_path)\n",
    "\n",
    "obb = result[0].obb\n",
    "\n",
    "xywhr = obb.xywhr\n",
    "cls = obb.cls\n",
    "\n",
    "data = []\n",
    "\n",
    "# # Verify if the export folder exists\n",
    "# if not os.path.exists(f\"{export_path}/{filename}\"):\n",
    "\n",
    "# Create folder to store crops\n",
    "os.makedirs(f\"{export_path}/{filename}\", exist_ok=True)\n",
    "\n",
    "# Save crops and create metadata\n",
    "for i in range(len(xywhr)):\n",
    "    data.append(DataFormat(f\"{filename}_{i}\", xywhr[i], cls[i]))\n",
    "    image = extract_image(image_path, xywhr[i])\n",
    "\n",
    "    image.save(f\"{export_path}/{filename}/{filename}_{i}.jpg\")\n",
    "\n",
    "for d in data:\n",
    "    if d.type == 3:\n",
    "        d.text = extract_text(f\"{export_path}/{filename}/{d.filename}.jpg\")\n",
    "    \n",
    "\n",
    "# Create json file to store crops metadata\n",
    "with open(f\"{export_path}/{filename}/{filename}.json\", \"w\") as f:\n",
    "    json.dump({d.filename: d.to_dict() for d in data}, f, indent=4)"
   ]
  }
 ],
 "metadata": {
  "kernelspec": {
   "display_name": "base",
   "language": "python",
   "name": "python3"
  },
  "language_info": {
   "codemirror_mode": {
    "name": "ipython",
    "version": 3
   },
   "file_extension": ".py",
   "mimetype": "text/x-python",
   "name": "python",
   "nbconvert_exporter": "python",
   "pygments_lexer": "ipython3",
   "version": "3.12.2"
  }
 },
 "nbformat": 4,
 "nbformat_minor": 2
}
