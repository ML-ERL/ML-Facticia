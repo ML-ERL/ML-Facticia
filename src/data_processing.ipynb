{
 "cells": [
  {
   "cell_type": "markdown",
   "metadata": {},
   "source": [
    "# Image and text Extraction"
   ]
  },
  {
   "cell_type": "code",
   "execution_count": null,
   "metadata": {},
   "outputs": [],
   "source": [
    "from image_processor import extract_image\n",
    "import cv2\n",
    "\n",
    "data_path = \"../dataset/facticia_3_2/\"\n",
    "image_name = \"4c76a3e4-ohcbh_cf_erl8_204\"\n",
    "\n",
    "label_path = f\"{data_path}/labels/{image_name}.txt\"\n",
    "image_path = f\"{data_path}/images/{image_name}.jpg\"\n",
    "\n",
    "images = []\n",
    "\n",
    "with open (label_path, \"r\") as file:\n",
    "    while True:\n",
    "        \n",
    "        line = file.readline()\n",
    "        \n",
    "        elements = line.split(\" \")\n",
    "        \n",
    "        if elements[0] == \"2\":\n",
    "            print(elements)\n",
    "            image = extract_image(image_path, elements[1:])\n",
    "            images.append(image)\n",
    "        \n",
    "        if not line:\n",
    "            break\n",
    "        "
   ]
  }
 ],
 "metadata": {
  "kernelspec": {
   "display_name": "base",
   "language": "python",
   "name": "python3"
  },
  "language_info": {
   "codemirror_mode": {
    "name": "ipython",
    "version": 3
   },
   "file_extension": ".py",
   "mimetype": "text/x-python",
   "name": "python",
   "nbconvert_exporter": "python",
   "pygments_lexer": "ipython3",
   "version": "3.12.2"
  }
 },
 "nbformat": 4,
 "nbformat_minor": 2
}
