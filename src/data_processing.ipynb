{
 "cells": [
  {
   "cell_type": "markdown",
   "metadata": {},
   "source": [
    "# Image and text Extraction"
   ]
  },
  {
   "cell_type": "code",
   "execution_count": null,
   "metadata": {},
   "outputs": [],
   "source": [
    "from image_processor import extract_image\n",
    "from ultralytics import YOLO\n",
    "import cv2\n",
    "\n",
    "data_path = \"../dataset/facticia_3_2/\"\n",
    "image_name = \"4c76a3e4-ohcbh_cf_erl8_204\"\n",
    "\n",
    "image_path = f\"{data_path}/images/{image_name}.jpg\"\n",
    "\n",
    "model = YOLO(\"detection/best.pt\")\n",
    "\n",
    "result = model(image_path)\n",
    "\n",
    "obb = result[0].obb\n",
    "\n",
    "images = [extract_image(image_path, obb.xywhr[i]) for i in range(len(obb.xywhr)) if obb.cls[i] == 2]\n",
    "\n",
    "# print(result[0].obb)"
   ]
  },
  {
   "cell_type": "code",
   "execution_count": 6,
   "metadata": {},
   "outputs": [],
   "source": [
    "for image in images:\n",
    "    image.show()"
   ]
  }
 ],
 "metadata": {
  "kernelspec": {
   "display_name": "base",
   "language": "python",
   "name": "python3"
  },
  "language_info": {
   "codemirror_mode": {
    "name": "ipython",
    "version": 3
   },
   "file_extension": ".py",
   "mimetype": "text/x-python",
   "name": "python",
   "nbconvert_exporter": "python",
   "pygments_lexer": "ipython3",
   "version": "3.12.2"
  }
 },
 "nbformat": 4,
 "nbformat_minor": 2
}
