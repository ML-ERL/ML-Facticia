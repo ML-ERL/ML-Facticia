{
 "cells": [
  {
   "cell_type": "markdown",
   "metadata": {},
   "source": [
    "# Tesseract test"
   ]
  },
  {
   "cell_type": "code",
   "execution_count": 1,
   "metadata": {},
   "outputs": [
    {
     "name": "stderr",
     "output_type": "stream",
     "text": [
      "WARNING: All log messages before absl::InitializeLog() is called are written to STDERR\n",
      "E0000 00:00:1738270487.996418  106904 cuda_dnn.cc:8310] Unable to register cuDNN factory: Attempting to register factory for plugin cuDNN when one has already been registered\n",
      "E0000 00:00:1738270488.002465  106904 cuda_blas.cc:1418] Unable to register cuBLAS factory: Attempting to register factory for plugin cuBLAS when one has already been registered\n"
     ]
    }
   ],
   "source": [
    "import os, sys\n",
    "import nltk\n",
    "\n",
    "import numpy as np\n",
    "\n",
    "# Change directory\n",
    "os.getcwd().split('/')[-1] == \"experimentation\" and os.chdir('../')\n",
    "    \n",
    "\n",
    "# Import the full model\n",
    "from src.text_processor import *\n",
    "from src.text_postprocessor import *\n",
    "\n",
    "from src.full_model import FullModel"
   ]
  },
  {
   "cell_type": "code",
   "execution_count": 2,
   "metadata": {},
   "outputs": [],
   "source": [
    "def jaccard_similarity(t1, t2):\n",
    "    \"\"\"\n",
    "    Calculates the Jaccard similarity between two texts.\n",
    "    \n",
    "    Parameters:\n",
    "    text1 (str): First text.\n",
    "    text2 (str): Second text.\n",
    "    \n",
    "    Returns:\n",
    "    float: Jaccard similarity between the two texts (value between 0 and 1).\n",
    "    \"\"\"\n",
    "    # Convert texts into sets of words\n",
    "    set1 = set(t1.lower().split())\n",
    "    set2 = set(t2.lower().split())\n",
    "    \n",
    "    # Calculate intersection and union of the sets\n",
    "    intersection = set1.intersection(set2)\n",
    "    union = set1.union(set2)\n",
    "    \n",
    "    # Calculate Jaccard similarity\n",
    "    if len(union) == 0:\n",
    "        return 0.0\n",
    "    else:\n",
    "        return len(intersection) / len(union)"
   ]
  },
  {
   "cell_type": "code",
   "execution_count": 3,
   "metadata": {},
   "outputs": [],
   "source": [
    "def cer_similarity(t1, t2):\n",
    "    \"\"\"\n",
    "    Calculates the Character Error Rate (CER) between two texts.\n",
    "    \n",
    "    Parameters:\n",
    "    text1 (str): First text.\n",
    "    text2 (str): Second text.\n",
    "    \n",
    "    Returns:\n",
    "    float: CER between the two texts (value between 0 and 1).\n",
    "    \"\"\"\n",
    "    # Calculate the edit distance\n",
    "    dist = nltk.edit_distance(t1, t2)\n",
    "    \n",
    "    # Calculate the CER\n",
    "    if len(t1) == 0 and len(t2) == 0:\n",
    "        return 0.0\n",
    "    else:\n",
    "        return dist / max(len(t1), len(t2))"
   ]
  },
  {
   "cell_type": "code",
   "execution_count": 4,
   "metadata": {},
   "outputs": [],
   "source": [
    "def read_text(path):\n",
    "    \n",
    "    with open(path, \"r\") as file:\n",
    "        text = file.read()\n",
    "        return text"
   ]
  },
  {
   "cell_type": "code",
   "execution_count": 5,
   "metadata": {},
   "outputs": [],
   "source": [
    "import re\n",
    "\n",
    "def normalize_text(text):\n",
    "    \n",
    "    palabras = re.findall(r'\\b[a-zA-Z]+\\b', text.lower())\n",
    "    return ' '.join(palabras)"
   ]
  },
  {
   "cell_type": "code",
   "execution_count": 6,
   "metadata": {},
   "outputs": [
    {
     "name": "stdout",
     "output_type": "stream",
     "text": [
      "['22-02-23', '21-59-45', '22-01-06', '22-01-35', '21-58-54', '22-03-37', '22-00-22', '21-58-31', '22-00-41', '22-04-35', '22-03-03', '21-58-05', '22-04-01']\n",
      "\n",
      "\n",
      "\n",
      "\n",
      "\n",
      "\n",
      "\n",
      "\n",
      "\n",
      "\n",
      "\n",
      "\n",
      "\n",
      "\n",
      "\n",
      "\n",
      "\n",
      "\n",
      "\n",
      "\n",
      "\n",
      "\n",
      "\n",
      "\n",
      "\n",
      "\n"
     ]
    }
   ],
   "source": [
    "precision = 3\n",
    "crops_path = \"./dataset/crops\"\n",
    "\n",
    "directory = [i.split('.')[-2] for i in os.listdir(f\"{crops_path}/images\")]\n",
    "\n",
    "print(directory)\n",
    "\n",
    "images = [f\"{crops_path}/images/{item}.png\" for item in directory]\n",
    "texts = [read_text(f\"{crops_path}/texts/{item}.txt\") for item in directory]\n",
    "\n",
    "texts = [normalize_text(text) for text in texts]\n",
    "\n",
    "results = parametric_search(images)\n",
    "\n",
    "len0 = len(results)\n",
    "len1 = len(results[0])\n",
    "\n",
    "mt_jaccard = np.zeros((len0, len1))\n",
    "mt_cer = np.zeros((len0, len1))\n",
    "\n",
    "for i in range(len(results)):\n",
    "    \n",
    "    real_text = texts[i]\n",
    "    \n",
    "    for j in range(len(results[0])):\n",
    "        \n",
    "        results[i][j] = normalize_text(results[i][j])\n",
    "        \n",
    "        mt_jaccard[i, j] = jaccard_similarity(real_text, results[i][j])\n",
    "        mt_cer[i, j] = cer_similarity(real_text, results[i][j])\n",
    "        \n",
    "    print(\"\\n\")"
   ]
  },
  {
   "cell_type": "code",
   "execution_count": 7,
   "metadata": {},
   "outputs": [
    {
     "name": "stdout",
     "output_type": "stream",
     "text": [
      "Real text 0: el ilustre criminalista dr enrique roig no puede aceptar el homenaje que con tanto entusiasmo se estaba organizando los organizadores de dicho homenaie cronis as de tribunales de los ca pitalinos se inclinan ante el deseo reiterado del dr roig de recibir cada uno de ellos una carta diciendo queridos y buenos amigos personalmente les he rogado desistieran de su generoso en homecenajearme por mi restablecimiento lo que en lo absoluto no merez co ahora por este medio vuelvo a rogarles la de dicho acto mi gratitud como a las personas que me han crito por mi salud en cartas que como un preciado muy suyo agradecido de ustedes firmado enrique roig y agrega como p s si soy algo en mi de abogado a ustedes es a quienes se lo debo como ya indicamos al lanzar la idea del homenaje ni siquiera consulado al dr roig y me nos a su por dicho motivo admitimos ias numerosas inscripciones que llegado pero no se pusieron en los recibos para el cobro no nos resta pues por nuestra parte q lamentar la imposibilidad de celebrar el acto y dar las gracias a las numerosas personas que cooperaron con nosotros en seguida al homenaje\n",
      "\n",
      "0.627, 0.627, 0.579, 0.075, 0.070, 0.000, 0.000, 0.075, 0.070, 0.000, 0.000, 0.630, 0.579, 0.079, 0.059, 0.059, 0.079, 0.079, 0.059, 0.059, 0.079, 0.172, 0.180, 0.180, 0.172, 0.172, 0.180, 0.180, 0.172, 0.595, 0.595, 0.630\n",
      "0.070, 0.069, 0.090, 0.706, 0.715, 0.993, 0.999, 0.706, 0.715, 0.993, 0.999, 0.074, 0.083, 0.702, 0.744, 0.744, 0.702, 0.702, 0.744, 0.744, 0.702, 0.345, 0.369, 0.369, 0.345, 0.345, 0.369, 0.369, 0.345, 0.084, 0.084, 0.074\n",
      "\n",
      "\n",
      "Real text 1: tenia rodriguez de edad cuando en el mes de octubre se a la revolu a las fuerzas de donato y tamayo ya con el grado de comandan te y al mando de contingente de tropas guantanameras de la batalla del naranjo donde grave herida en la pierna izquierda que lo para marchar a las villas teniente coronel\n",
      "\n",
      "0.638, 0.725, 0.731, 0.227, 0.203, 0.000, 0.023, 0.227, 0.203, 0.000, 0.023, 0.740, 0.760, 0.231, 0.171, 0.171, 0.231, 0.231, 0.171, 0.171, 0.231, 0.283, 0.203, 0.203, 0.283, 0.283, 0.203, 0.203, 0.283, 0.532, 0.532, 0.740\n",
      "0.148, 0.068, 0.103, 0.352, 0.383, 0.990, 0.993, 0.352, 0.383, 0.990, 0.993, 0.113, 0.104, 0.349, 0.436, 0.436, 0.349, 0.349, 0.436, 0.436, 0.349, 0.544, 0.554, 0.554, 0.544, 0.544, 0.554, 0.554, 0.544, 0.192, 0.192, 0.113\n",
      "\n",
      "\n",
      "Real text 2: documentos fe de bautismo expedida por el paro d salvador negre cura de la iglesia parroquial del santo de fecha sept de certificando el bautizo en agosto de de juan pascual nacido el de junio de hijo de d pascual rodriguez y de da rosa naturales de esta ciudad abuelos paternos d felix rodriguez y da juana montero maternos d de la luz y da del carmen\n",
      "\n",
      "0.518, 0.500, 0.458, 0.029, 0.061, 0.000, 0.000, 0.029, 0.061, 0.000, 0.000, 0.527, 0.475, 0.044, 0.000, 0.000, 0.044, 0.044, 0.000, 0.000, 0.044, 0.064, 0.067, 0.067, 0.064, 0.064, 0.067, 0.067, 0.064, 0.328, 0.328, 0.527\n",
      "0.216, 0.216, 0.202, 0.730, 0.741, 0.994, 0.994, 0.730, 0.741, 0.994, 0.994, 0.213, 0.185, 0.724, 0.827, 0.827, 0.724, 0.724, 0.827, 0.827, 0.724, 0.628, 0.653, 0.653, 0.628, 0.628, 0.653, 0.653, 0.628, 0.250, 0.250, 0.213\n",
      "\n",
      "\n",
      "Real text 3: la entrevista viene en el espacio se lo llevan las y pensar que sumar docenas las cuartillas dedicadas a hablar de nuestro querido gonzalo roig\n",
      "\n",
      "0.700, 0.750, 0.667, 0.067, 0.100, 0.000, 0.000, 0.067, 0.100, 0.000, 0.000, 0.750, 0.645, 0.067, 0.051, 0.051, 0.067, 0.067, 0.051, 0.051, 0.067, 0.238, 0.293, 0.293, 0.238, 0.238, 0.293, 0.293, 0.238, 0.733, 0.733, 0.750\n",
      "0.079, 0.133, 0.182, 0.573, 0.601, 1.000, 1.000, 0.573, 0.601, 1.000, 1.000, 0.133, 0.147, 0.545, 0.636, 0.636, 0.545, 0.545, 0.636, 0.636, 0.545, 0.378, 0.284, 0.284, 0.378, 0.378, 0.284, 0.284, 0.378, 0.078, 0.078, 0.133\n",
      "\n",
      "\n",
      "Real text 4: un dia como hoy de mayo de y rodriguez en santiago de cuba el de junio de felipe martinez arango sintetiza su vida en los siguientes grande de cuba conspi rador patriota y ciudadano esclarecido veterano de todas las guerras libertadoras mayor general de la guerra de independencia de modesto y valiente notable del arma de muy estimado por y maceo muy joven de santiago en como tantos otros de la ciudad para incorporarse a las tropas de donato a la muerte de importante papel en la aguerrida de cuba a la que pertene cia como jefe de ayudantes del general hasta hacerse cargo de dichas tropas en sus de herido de gravedad varias veces alcanzando el grado de coronel en la guerra grande por de guerra valerosamente en agosto de a salvar la vida de antonio maceo en la jornada de los mangos de mejia\n",
      "\n",
      "0.811, 0.826, 0.713, 0.075, 0.067, 0.000, 0.000, 0.075, 0.067, 0.000, 0.000, 0.826, 0.710, 0.075, 0.034, 0.034, 0.075, 0.075, 0.034, 0.034, 0.075, 0.290, 0.269, 0.269, 0.290, 0.290, 0.269, 0.269, 0.290, 0.745, 0.745, 0.826\n",
      "0.064, 0.051, 0.096, 0.539, 0.548, 0.999, 0.999, 0.539, 0.548, 0.999, 0.999, 0.051, 0.096, 0.539, 0.579, 0.579, 0.539, 0.539, 0.579, 0.579, 0.539, 0.238, 0.256, 0.256, 0.238, 0.238, 0.256, 0.256, 0.238, 0.079, 0.079, 0.051\n",
      "\n",
      "\n",
      "Real text 5: vasconcelos de el pais mi admirado y amigo gracias por su do ayer tan compresivo y tan cordial cua lidades estas que no han abundado en los mil comentarios que a la indiferencia del medio mi de la democracia usted no de acuerdo conmigo sino en parte intolectual que sin embargo usted ha sido de una vez do los males las terribles lo anularon usted hubiera debido ya no creer en ese absurdo que se defiende con sutilezas y hasta con banalidades\n",
      "\n",
      "0.398, 0.489, 0.400, 0.107, 0.104, 0.000, 0.000, 0.107, 0.104, 0.000, 0.000, 0.512, 0.415, 0.104, 0.121, 0.121, 0.104, 0.104, 0.121, 0.121, 0.104, 0.215, 0.255, 0.255, 0.215, 0.215, 0.255, 0.255, 0.215, 0.523, 0.523, 0.512\n",
      "0.280, 0.188, 0.233, 0.528, 0.582, 1.000, 1.000, 0.528, 0.582, 1.000, 1.000, 0.212, 0.233, 0.567, 0.596, 0.596, 0.567, 0.567, 0.596, 0.596, 0.567, 0.370, 0.341, 0.341, 0.370, 0.370, 0.341, 0.341, 0.370, 0.210, 0.210, 0.212\n",
      "\n",
      "\n",
      "Real text 6: el mayor general alejandro y velasco en sancti spiritus el de noviembre de justamente cien hijo de padres que disfrutaban de buena fuele dado recibir una esmerada adquirir amplia cultura general y poseer tres idiomas el propio el y el cuando la de yara alejandro rodriguez se a la manigua sirviendo a las de los generales honorato y angel del castillo acosta varona y marcos garcia las vicisitudes de la guerra ronle pasar a residir a durante algunos meses en trasla\n",
      "\n",
      "0.746, 0.857, 0.828, 0.280, 0.280, 0.017, 0.017, 0.280, 0.280, 0.017, 0.017, 0.828, 0.828, 0.255, 0.245, 0.245, 0.255, 0.255, 0.245, 0.245, 0.255, 0.700, 0.725, 0.725, 0.700, 0.700, 0.725, 0.725, 0.700, 0.754, 0.754, 0.828\n",
      "0.075, 0.045, 0.056, 0.235, 0.242, 0.998, 0.998, 0.235, 0.242, 0.998, 0.998, 0.049, 0.058, 0.240, 0.290, 0.290, 0.240, 0.240, 0.290, 0.290, 0.240, 0.077, 0.067, 0.067, 0.077, 0.077, 0.067, 0.067, 0.077, 0.099, 0.099, 0.049\n",
      "\n",
      "\n",
      "Real text 7: aclara el dr hermida el alcance de una investigacion el ministro de doctor o hermida a los periodistas en con la a que sometido el doctor luis ro driguez rivero por agentes del servicio de inteligencia mili tar que dicho funcionario disfrutando de su plena confianza como la del coronel blanco rico la verificada una de mero de la que el doctor rivero como decimos con superiores de competencia y aptitud administrativa\n",
      "\n",
      "0.542, 0.651, 0.597, 0.284, 0.275, 0.000, 0.000, 0.284, 0.275, 0.000, 0.000, 0.667, 0.597, 0.301, 0.270, 0.270, 0.301, 0.301, 0.270, 0.270, 0.301, 0.645, 0.582, 0.582, 0.645, 0.645, 0.582, 0.582, 0.645, 0.683, 0.683, 0.667\n",
      "0.186, 0.123, 0.118, 0.270, 0.243, 0.990, 0.993, 0.270, 0.243, 0.990, 0.993, 0.131, 0.118, 0.262, 0.301, 0.301, 0.262, 0.262, 0.301, 0.301, 0.262, 0.165, 0.158, 0.158, 0.165, 0.165, 0.158, 0.158, 0.165, 0.138, 0.138, 0.131\n",
      "\n",
      "\n",
      "Real text 8: luego a los estados unidos para ponerse a las del agente de la don miguel aldama aun de la paz del no rodriguez a cuba hasta el de habiendo tomado parte en cuantos trabajos se emprendieron en pro de la independencia de cuba a su regreso a se en camagiiey donde en la entonces ciudad de puerto principe y en el campo algunos intereses se un revolucionario presidido por don salvador cisneros betancourt de santa del cual fue tesorero rodriguez se a la encomienda de pasar a montecristi en santo domingo a fin de entrevistarse con el general de alli se a new york para conferenciar con marti retornando luego a camagiiey en el mes de junio de alejandro velasco se en armas en su finca con algunos de sus empleados vecinos y amigos y se al general que acababa de llegar a la provincia siendo nombrado teniente coronel de y jefe del regimiento agramonte pues primeramente al mando de una fuerza de en operaciones sobre el ferrocarril de nuevitas a puerto principe o sea la parte norte de la provincia de camagiiey comprendida en el tercer ouerpo del libertador al desembarcar la de piedra en la citada provincia fue comisionado por el mayor general manuel para llevar armas y municiones al general en jefe cumplido lo cual fue ascendido a\n",
      "\n",
      "0.688, 0.774, 0.759, 0.456, 0.443, 0.000, 0.000, 0.456, 0.443, 0.000, 0.000, 0.781, 0.746, 0.456, 0.414, 0.414, 0.456, 0.456, 0.414, 0.414, 0.456, 0.638, 0.619, 0.619, 0.638, 0.638, 0.619, 0.619, 0.638, 0.779, 0.779, 0.781\n",
      "0.135, 0.072, 0.083, 0.128, 0.115, 0.998, 1.000, 0.128, 0.115, 0.998, 1.000, 0.064, 0.083, 0.129, 0.152, 0.152, 0.129, 0.129, 0.152, 0.152, 0.129, 0.199, 0.191, 0.191, 0.199, 0.199, 0.191, 0.191, 0.199, 0.073, 0.073, 0.064\n",
      "\n",
      "\n",
      "Real text 9: enrique varona un esclarecido cubano que en la decisiva y peligrosa de nuestra historia nacional supo y quiso darle a la patria una de positiva evolutiva y realista tomada de los mejores pensamientos de la cultura universal para que el cubano pudiera vencer a los mostruos que desde las sombras quisieran perpetuar la par vulez de la patria\n",
      "\n",
      "0.792, 0.870, 0.740, 0.049, 0.041, 0.000, 0.000, 0.049, 0.041, 0.000, 0.000, 0.830, 0.740, 0.036, 0.034, 0.034, 0.036, 0.036, 0.034, 0.034, 0.036, 0.084, 0.079, 0.079, 0.084, 0.084, 0.079, 0.079, 0.084, 0.679, 0.679, 0.830\n",
      "0.020, 0.015, 0.053, 0.662, 0.712, 0.991, 0.985, 0.662, 0.712, 0.991, 0.985, 0.017, 0.053, 0.659, 0.782, 0.782, 0.659, 0.659, 0.782, 0.782, 0.659, 0.516, 0.518, 0.518, 0.516, 0.516, 0.518, 0.518, 0.516, 0.038, 0.038, 0.017\n",
      "\n",
      "\n",
      "Real text 10: pasaron los un supe que aquel maestro de la palabra estaba gravemente enfermo ya estaba retirado de las luchas poli ticas en las que participado brillantemente parlamentario muy de natural e ocuencia de dialectica en la que se al maestro de la oratoria forense no en la vida de la na el lugar relevante a que e daban derecho sus cualidades\n",
      "\n",
      "0.448, 0.450, 0.377, 0.083, 0.068, 0.022, 0.022, 0.083, 0.068, 0.022, 0.022, 0.413, 0.383, 0.082, 0.060, 0.060, 0.082, 0.082, 0.060, 0.060, 0.082, 0.215, 0.219, 0.219, 0.215, 0.215, 0.219, 0.219, 0.215, 0.343, 0.343, 0.413\n",
      "0.310, 0.254, 0.383, 0.684, 0.678, 0.965, 0.950, 0.684, 0.678, 0.965, 0.950, 0.260, 0.383, 0.664, 0.720, 0.720, 0.664, 0.664, 0.720, 0.720, 0.664, 0.478, 0.478, 0.478, 0.478, 0.478, 0.478, 0.478, 0.478, 0.319, 0.319, 0.260\n",
      "\n",
      "\n",
      "Real text 11: pablo rodriguez piedra un dia como hoy de diciembre de pablo rodriguez piedra quiso el destino que pasara sus en la de la habana donde se la de sus y las autoridades de penal la revista redactada e impresa por los reclusos de la como al moderno penitenciario cubano se hizo eco de los merecimientos de este hombre modesto en la forma a que vamos a referirnos pero antes aprovecharemos esta oportunidad para des tacar la obra del consejo asesor de esta revista compuesto de las siguientes personas m supervisor de la eduardo santo presidente del consejo de miguel a d pisani secretario del consejo de francisco r de director de la y gonzalo bernabeu casanova jefe de los talleres de imprenta y nos satisface incluir en esa gran obra al cuerpo de compuesto por rolando pulido redactor jefe geordano regente de y angel maldonado regente de emplane a todos ellos debe cuba una revista redactada e impresa en la de la habana que es orgullo de todos en las de se la obra de pablo piedra en la de la habana consignando que se le primer auxiliar de orden y disciplina y expresando que a su tesonera voluntad a sus conocimientos mu sicales a ese de dar alicientes y motivos de entretenimiento espiritual a sus debemos la de contar con un grupo musical que es a la vez ejercicio educacional y exponente de la capacidad interpretativa de los penados\n",
      "\n",
      "0.647, 0.824, 0.768, 0.045, 0.051, 0.000, 0.000, 0.045, 0.051, 0.000, 0.000, 0.824, 0.778, 0.046, 0.063, 0.063, 0.046, 0.046, 0.063, 0.063, 0.046, 0.058, 0.059, 0.059, 0.058, 0.058, 0.059, 0.059, 0.058, 0.712, 0.712, 0.824\n",
      "0.146, 0.041, 0.078, 0.717, 0.734, 1.000, 0.997, 0.717, 0.734, 1.000, 0.997, 0.040, 0.060, 0.733, 0.743, 0.743, 0.733, 0.733, 0.743, 0.743, 0.733, 0.610, 0.594, 0.594, 0.610, 0.610, 0.594, 0.594, 0.610, 0.108, 0.108, 0.040\n",
      "\n",
      "\n",
      "Real text 12: la cubana y revolucionaria es laica y anticlerical no es posible ser al mismo tiempo buen y buen cubano condiciones recibes cada articulo y escribes o mandas escribir al p rubinos u otro de tus consejeros la respuesta y la publicas en la columna vecina a mi yo me comprometo a no usar que documentos en los trabajos y y no de renegados ni ex comulgados sino de los que vivieron y murieron en el seno de la iglesia y en el textos de grandes figuras cubanas ya fallecidas por te ofrezco no emplear en ninguno de los cuatro la palabra clericanalla aceptas a que no te atreves o tu confesor y espiritual no te deja tu\n",
      "\n",
      "0.753, 0.793, 0.782, 0.414, 0.373, 0.000, 0.000, 0.414, 0.373, 0.000, 0.000, 0.793, 0.782, 0.414, 0.387, 0.387, 0.414, 0.414, 0.387, 0.387, 0.414, 0.670, 0.688, 0.688, 0.670, 0.670, 0.688, 0.688, 0.670, 0.802, 0.802, 0.793\n",
      "0.046, 0.021, 0.023, 0.154, 0.177, 0.985, 0.982, 0.154, 0.177, 0.985, 0.982, 0.021, 0.023, 0.154, 0.177, 0.177, 0.154, 0.154, 0.177, 0.177, 0.154, 0.057, 0.072, 0.072, 0.057, 0.057, 0.072, 0.072, 0.057, 0.020, 0.020, 0.021\n",
      "\n",
      "\n"
     ]
    }
   ],
   "source": [
    "for i in range(len(results)):\n",
    "    \n",
    "    print(f\"Real text {i}: {texts[i]}\\n\")\n",
    "    \n",
    "    print(\", \".join([f\"{mt_jaccard[i, j]:.{precision}f}\" for j in range(len(results[0]))]))\n",
    "    print(\", \".join([f\"{mt_cer[i, j]:.{precision}f}\" for j in range(len(results[0]))]))\n",
    "        \n",
    "    print(\"\\n\")"
   ]
  },
  {
   "cell_type": "code",
   "execution_count": 8,
   "metadata": {},
   "outputs": [
    {
     "name": "stdout",
     "output_type": "stream",
     "text": [
      "Best fit jaccard: 1 with score 0.7027208973844729\n",
      "Best fit cer: 1 with score 0.09963021841388048\n"
     ]
    }
   ],
   "source": [
    "# Select best average case\n",
    "\n",
    "mean_efectivity_jaccard = np.mean(np.array(mt_jaccard), axis=0)\n",
    "mean_efectivity_cer = np.mean(np.array(mt_cer), axis=0)\n",
    "\n",
    "best_fit_jaccard = np.argmax(mean_efectivity_jaccard)\n",
    "best_fit_cer = np.argmin(mean_efectivity_cer)\n",
    "\n",
    "best_score_jaccard = mean_efectivity_jaccard[best_fit_jaccard]\n",
    "best_score_cer = mean_efectivity_cer[best_fit_cer]\n",
    "\n",
    "print(f\"Best fit jaccard: {best_fit_jaccard} with score {best_score_jaccard}\")\n",
    "print(f\"Best fit cer: {best_fit_cer} with score {best_score_cer}\")\n"
   ]
  },
  {
   "cell_type": "code",
   "execution_count": 9,
   "metadata": {},
   "outputs": [
    {
     "data": {
      "image/png": "[encoded data removed]",
      "text/plain": [
       "<Figure size 640x480 with 1 Axes>"
      ]
     },
     "metadata": {},
     "output_type": "display_data"
    },
    {
     "data": {
      "image/png": "[encoded data removed]",
      "text/plain": [
       "<Figure size 640x480 with 1 Axes>"
      ]
     },
     "metadata": {},
     "output_type": "display_data"
    }
   ],
   "source": [
    "import matplotlib.pyplot as plt\n",
    "%matplotlib inline\n",
    "\n",
    "# Pyplot \n",
    "\n",
    "# Jaccard similarity average case\n",
    "plt.plot(mean_efectivity_jaccard)\n",
    "plt.xlabel(\"Index\")\n",
    "plt.ylabel(\"Jaccard similarity\")\n",
    "plt.title(\"Jaccard similarity average case\")\n",
    "plt.show()\n",
    "\n",
    "# CER average case\n",
    "plt.plot(mean_efectivity_cer)\n",
    "plt.xlabel(\"Index\")\n",
    "plt.ylabel(\"CER\")\n",
    "plt.title(\"CER average case\")\n",
    "plt.gca().invert_yaxis()\n",
    "plt.show()\n"
   ]
  },
  {
   "cell_type": "code",
   "execution_count": 10,
   "metadata": {},
   "outputs": [
    {
     "data": {
      "application/vnd.plotly.v1+json": {
       "config": {
        "plotlyServerURL": "https://plot.ly"
       },
       "data": [
        {
         "hovertemplate": "x=%{x}<br>y=%{y}<extra></extra>",
         "legendgroup": "",
         "line": {
          "color": "#636efa",
          "dash": "solid"
         },
         "marker": {
          "symbol": "circle"
         },
         "mode": "lines",
         "name": "",
         "orientation": "v",
         "showlegend": false,
         "type": "scatter",
         "x": [
          0,
          1,
          2,
          3,
          4,
          5,
          6,
          7,
          8,
          9,
          10,
          11,
          12,
          13,
          14,
          15,
          16,
          17,
          18,
          19,
          20,
          21,
          22,
          23,
          24,
          25,
          26,
          27,
          28,
          29,
          30,
          31
         ],
         "xaxis": "x",
         "y": [
          0.6389396507518001,
          0.7027208973844729,
          0.6459650766006265,
          0.1684092768022219,
          0.16426595460017063,
          0.0029985007496251873,
          0.004787409515278139,
          0.1684092768022219,
          0.16426595460017063,
          0.0029985007496251873,
          0.004787409515278139,
          0.7016167388378677,
          0.649062737725546,
          0.16841558077995206,
          0.14686441252881255,
          0.14686441252881255,
          0.16841558077995206,
          0.16841558077995206,
          0.14686441252881255,
          0.14686441252881255,
          0.16841558077995206,
          0.32862987597867793,
          0.3259613756547873,
          0.3259613756547873,
          0.32862987597867793,
          0.32862987597867793,
          0.3259613756547873,
          0.3259613756547873,
          0.32862987597867793,
          0.6315049142250848,
          0.6315049142250848,
          0.7016167388378677
         ],
         "yaxis": "y"
        }
       ],
       "layout": {
        "legend": {
         "tracegroupgap": 0
        },
        "template": {
         "data": {
          "bar": [
           {
            "error_x": {
             "color": "#2a3f5f"
            },
            "error_y": {
             "color": "#2a3f5f"
            },
            "marker": {
             "line": {
              "color": "#E5ECF6",
              "width": 0.5
             },
             "pattern": {
              "fillmode": "overlay",
              "size": 10,
              "solidity": 0.2
             }
            },
            "type": "bar"
           }
          ],
          "barpolar": [
           {
            "marker": {
             "line": {
              "color": "#E5ECF6",
              "width": 0.5
             },
             "pattern": {
              "fillmode": "overlay",
              "size": 10,
              "solidity": 0.2
             }
            },
            "type": "barpolar"
           }
          ],
          "carpet": [
           {
            "aaxis": {
             "endlinecolor": "#2a3f5f",
             "gridcolor": "white",
             "linecolor": "white",
             "minorgridcolor": "white",
             "startlinecolor": "#2a3f5f"
            },
            "baxis": {
             "endlinecolor": "#2a3f5f",
             "gridcolor": "white",
             "linecolor": "white",
             "minorgridcolor": "white",
             "startlinecolor": "#2a3f5f"
            },
            "type": "carpet"
           }
          ],
          "choropleth": [
           {
            "colorbar": {
             "outlinewidth": 0,
             "ticks": ""
            },
            "type": "choropleth"
           }
          ],
          "contour": [
           {
            "colorbar": {
             "outlinewidth": 0,
             "ticks": ""
            },
            "colorscale": [
             [
              0,
              "#0d0887"
             ],
             [
              0.1111111111111111,
              "#46039f"
             ],
             [
              0.2222222222222222,
              "#7201a8"
             ],
             [
              0.3333333333333333,
              "#9c179e"
             ],
             [
              0.4444444444444444,
              "#bd3786"
             ],
             [
              0.5555555555555556,
              "#d8576b"
             ],
             [
              0.6666666666666666,
              "#ed7953"
             ],
             [
              0.7777777777777778,
              "#fb9f3a"
             ],
             [
              0.8888888888888888,
              "#fdca26"
             ],
             [
              1,
              "#f0f921"
             ]
            ],
            "type": "contour"
           }
          ],
          "contourcarpet": [
           {
            "colorbar": {
             "outlinewidth": 0,
             "ticks": ""
            },
            "type": "contourcarpet"
           }
          ],
          "heatmap": [
           {
            "colorbar": {
             "outlinewidth": 0,
             "ticks": ""
            },
            "colorscale": [
             [
              0,
              "#0d0887"
             ],
             [
              0.1111111111111111,
              "#46039f"
             ],
             [
              0.2222222222222222,
              "#7201a8"
             ],
             [
              0.3333333333333333,
              "#9c179e"
             ],
             [
              0.4444444444444444,
              "#bd3786"
             ],
             [
              0.5555555555555556,
              "#d8576b"
             ],
             [
              0.6666666666666666,
              "#ed7953"
             ],
             [
              0.7777777777777778,
              "#fb9f3a"
             ],
             [
              0.8888888888888888,
              "#fdca26"
             ],
             [
              1,
              "#f0f921"
             ]
            ],
            "type": "heatmap"
           }
          ],
          "heatmapgl": [
           {
            "colorbar": {
             "outlinewidth": 0,
             "ticks": ""
            },
            "colorscale": [
             [
              0,
              "#0d0887"
             ],
             [
              0.1111111111111111,
              "#46039f"
             ],
             [
              0.2222222222222222,
              "#7201a8"
             ],
             [
              0.3333333333333333,
              "#9c179e"
             ],
             [
              0.4444444444444444,
              "#bd3786"
             ],
             [
              0.5555555555555556,
              "#d8576b"
             ],
             [
              0.6666666666666666,
              "#ed7953"
             ],
             [
              0.7777777777777778,
              "#fb9f3a"
             ],
             [
              0.8888888888888888,
              "#fdca26"
             ],
             [
              1,
              "#f0f921"
             ]
            ],
            "type": "heatmapgl"
           }
          ],
          "histogram": [
           {
            "marker": {
             "pattern": {
              "fillmode": "overlay",
              "size": 10,
              "solidity": 0.2
             }
            },
            "type": "histogram"
           }
          ],
          "histogram2d": [
           {
            "colorbar": {
             "outlinewidth": 0,
             "ticks": ""
            },
            "colorscale": [
             [
              0,
              "#0d0887"
             ],
             [
              0.1111111111111111,
              "#46039f"
             ],
             [
              0.2222222222222222,
              "#7201a8"
             ],
             [
              0.3333333333333333,
              "#9c179e"
             ],
             [
              0.4444444444444444,
              "#bd3786"
             ],
             [
              0.5555555555555556,
              "#d8576b"
             ],
             [
              0.6666666666666666,
              "#ed7953"
             ],
             [
              0.7777777777777778,
              "#fb9f3a"
             ],
             [
              0.8888888888888888,
              "#fdca26"
             ],
             [
              1,
              "#f0f921"
             ]
            ],
            "type": "histogram2d"
           }
          ],
          "histogram2dcontour": [
           {
            "colorbar": {
             "outlinewidth": 0,
             "ticks": ""
            },
            "colorscale": [
             [
              0,
              "#0d0887"
             ],
             [
              0.1111111111111111,
              "#46039f"
             ],
             [
              0.2222222222222222,
              "#7201a8"
             ],
             [
              0.3333333333333333,
              "#9c179e"
             ],
             [
              0.4444444444444444,
              "#bd3786"
             ],
             [
              0.5555555555555556,
              "#d8576b"
             ],
             [
              0.6666666666666666,
              "#ed7953"
             ],
             [
              0.7777777777777778,
              "#fb9f3a"
             ],
             [
              0.8888888888888888,
              "#fdca26"
             ],
             [
              1,
              "#f0f921"
             ]
            ],
            "type": "histogram2dcontour"
           }
          ],
          "mesh3d": [
           {
            "colorbar": {
             "outlinewidth": 0,
             "ticks": ""
            },
            "type": "mesh3d"
           }
          ],
          "parcoords": [
           {
            "line": {
             "colorbar": {
              "outlinewidth": 0,
              "ticks": ""
             }
            },
            "type": "parcoords"
           }
          ],
          "pie": [
           {
            "automargin": true,
            "type": "pie"
           }
          ],
          "scatter": [
           {
            "fillpattern": {
             "fillmode": "overlay",
             "size": 10,
             "solidity": 0.2
            },
            "type": "scatter"
           }
          ],
          "scatter3d": [
           {
            "line": {
             "colorbar": {
              "outlinewidth": 0,
              "ticks": ""
             }
            },
            "marker": {
             "colorbar": {
              "outlinewidth": 0,
              "ticks": ""
             }
            },
            "type": "scatter3d"
           }
          ],
          "scattercarpet": [
           {
            "marker": {
             "colorbar": {
              "outlinewidth": 0,
              "ticks": ""
             }
            },
            "type": "scattercarpet"
           }
          ],
          "scattergeo": [
           {
            "marker": {
             "colorbar": {
              "outlinewidth": 0,
              "ticks": ""
             }
            },
            "type": "scattergeo"
           }
          ],
          "scattergl": [
           {
            "marker": {
             "colorbar": {
              "outlinewidth": 0,
              "ticks": ""
             }
            },
            "type": "scattergl"
           }
          ],
          "scattermapbox": [
           {
            "marker": {
             "colorbar": {
              "outlinewidth": 0,
              "ticks": ""
             }
            },
            "type": "scattermapbox"
           }
          ],
          "scatterpolar": [
           {
            "marker": {
             "colorbar": {
              "outlinewidth": 0,
              "ticks": ""
             }
            },
            "type": "scatterpolar"
           }
          ],
          "scatterpolargl": [
           {
            "marker": {
             "colorbar": {
              "outlinewidth": 0,
              "ticks": ""
             }
            },
            "type": "scatterpolargl"
           }
          ],
          "scatterternary": [
           {
            "marker": {
             "colorbar": {
              "outlinewidth": 0,
              "ticks": ""
             }
            },
            "type": "scatterternary"
           }
          ],
          "surface": [
           {
            "colorbar": {
             "outlinewidth": 0,
             "ticks": ""
            },
            "colorscale": [
             [
              0,
              "#0d0887"
             ],
             [
              0.1111111111111111,
              "#46039f"
             ],
             [
              0.2222222222222222,
              "#7201a8"
             ],
             [
              0.3333333333333333,
              "#9c179e"
             ],
             [
              0.4444444444444444,
              "#bd3786"
             ],
             [
              0.5555555555555556,
              "#d8576b"
             ],
             [
              0.6666666666666666,
              "#ed7953"
             ],
             [
              0.7777777777777778,
              "#fb9f3a"
             ],
             [
              0.8888888888888888,
              "#fdca26"
             ],
             [
              1,
              "#f0f921"
             ]
            ],
            "type": "surface"
           }
          ],
          "table": [
           {
            "cells": {
             "fill": {
              "color": "#EBF0F8"
             },
             "line": {
              "color": "white"
             }
            },
            "header": {
             "fill": {
              "color": "#C8D4E3"
             },
             "line": {
              "color": "white"
             }
            },
            "type": "table"
           }
          ]
         },
         "layout": {
          "annotationdefaults": {
           "arrowcolor": "#2a3f5f",
           "arrowhead": 0,
           "arrowwidth": 1
          },
          "autotypenumbers": "strict",
          "coloraxis": {
           "colorbar": {
            "outlinewidth": 0,
            "ticks": ""
           }
          },
          "colorscale": {
           "diverging": [
            [
             0,
             "#8e0152"
            ],
            [
             0.1,
             "#c51b7d"
            ],
            [
             0.2,
             "#de77ae"
            ],
            [
             0.3,
             "#f1b6da"
            ],
            [
             0.4,
             "#fde0ef"
            ],
            [
             0.5,
             "#f7f7f7"
            ],
            [
             0.6,
             "#e6f5d0"
            ],
            [
             0.7,
             "#b8e186"
            ],
            [
             0.8,
             "#7fbc41"
            ],
            [
             0.9,
             "#4d9221"
            ],
            [
             1,
             "#276419"
            ]
           ],
           "sequential": [
            [
             0,
             "#0d0887"
            ],
            [
             0.1111111111111111,
             "#46039f"
            ],
            [
             0.2222222222222222,
             "#7201a8"
            ],
            [
             0.3333333333333333,
             "#9c179e"
            ],
            [
             0.4444444444444444,
             "#bd3786"
            ],
            [
             0.5555555555555556,
             "#d8576b"
            ],
            [
             0.6666666666666666,
             "#ed7953"
            ],
            [
             0.7777777777777778,
             "#fb9f3a"
            ],
            [
             0.8888888888888888,
             "#fdca26"
            ],
            [
             1,
             "#f0f921"
            ]
           ],
           "sequentialminus": [
            [
             0,
             "#0d0887"
            ],
            [
             0.1111111111111111,
             "#46039f"
            ],
            [
             0.2222222222222222,
             "#7201a8"
            ],
            [
             0.3333333333333333,
             "#9c179e"
            ],
            [
             0.4444444444444444,
             "#bd3786"
            ],
            [
             0.5555555555555556,
             "#d8576b"
            ],
            [
             0.6666666666666666,
             "#ed7953"
            ],
            [
             0.7777777777777778,
             "#fb9f3a"
            ],
            [
             0.8888888888888888,
             "#fdca26"
            ],
            [
             1,
             "#f0f921"
            ]
           ]
          },
          "colorway": [
           "#636efa",
           "#EF553B",
           "#00cc96",
           "#ab63fa",
           "#FFA15A",
           "#19d3f3",
           "#FF6692",
           "#B6E880",
           "#FF97FF",
           "#FECB52"
          ],
          "font": {
           "color": "#2a3f5f"
          },
          "geo": {
           "bgcolor": "white",
           "lakecolor": "white",
           "landcolor": "#E5ECF6",
           "showlakes": true,
           "showland": true,
           "subunitcolor": "white"
          },
          "hoverlabel": {
           "align": "left"
          },
          "hovermode": "closest",
          "mapbox": {
           "style": "light"
          },
          "paper_bgcolor": "white",
          "plot_bgcolor": "#E5ECF6",
          "polar": {
           "angularaxis": {
            "gridcolor": "white",
            "linecolor": "white",
            "ticks": ""
           },
           "bgcolor": "#E5ECF6",
           "radialaxis": {
            "gridcolor": "white",
            "linecolor": "white",
            "ticks": ""
           }
          },
          "scene": {
           "xaxis": {
            "backgroundcolor": "#E5ECF6",
            "gridcolor": "white",
            "gridwidth": 2,
            "linecolor": "white",
            "showbackground": true,
            "ticks": "",
            "zerolinecolor": "white"
           },
           "yaxis": {
            "backgroundcolor": "#E5ECF6",
            "gridcolor": "white",
            "gridwidth": 2,
            "linecolor": "white",
            "showbackground": true,
            "ticks": "",
            "zerolinecolor": "white"
           },
           "zaxis": {
            "backgroundcolor": "#E5ECF6",
            "gridcolor": "white",
            "gridwidth": 2,
            "linecolor": "white",
            "showbackground": true,
            "ticks": "",
            "zerolinecolor": "white"
           }
          },
          "shapedefaults": {
           "line": {
            "color": "#2a3f5f"
           }
          },
          "ternary": {
           "aaxis": {
            "gridcolor": "white",
            "linecolor": "white",
            "ticks": ""
           },
           "baxis": {
            "gridcolor": "white",
            "linecolor": "white",
            "ticks": ""
           },
           "bgcolor": "#E5ECF6",
           "caxis": {
            "gridcolor": "white",
            "linecolor": "white",
            "ticks": ""
           }
          },
          "title": {
           "x": 0.05
          },
          "xaxis": {
           "automargin": true,
           "gridcolor": "white",
           "linecolor": "white",
           "ticks": "",
           "title": {
            "standoff": 15
           },
           "zerolinecolor": "white",
           "zerolinewidth": 2
          },
          "yaxis": {
           "automargin": true,
           "gridcolor": "white",
           "linecolor": "white",
           "ticks": "",
           "title": {
            "standoff": 15
           },
           "zerolinecolor": "white",
           "zerolinewidth": 2
          }
         }
        },
        "title": {
         "text": "Jaccard similarity average case"
        },
        "xaxis": {
         "anchor": "y",
         "domain": [
          0,
          1
         ],
         "title": {
          "text": "pre-processing"
         }
        },
        "yaxis": {
         "anchor": "x",
         "domain": [
          0,
          1
         ],
         "title": {
          "text": "Jaccard similarity"
         }
        }
       }
      }
     },
     "metadata": {},
     "output_type": "display_data"
    },
    {
     "data": {
      "application/vnd.plotly.v1+json": {
       "config": {
        "plotlyServerURL": "https://plot.ly"
       },
       "data": [
        {
         "hovertemplate": "x=%{x}<br>y=%{y}<extra></extra>",
         "legendgroup": "",
         "line": {
          "color": "#636efa",
          "dash": "solid"
         },
         "marker": {
          "symbol": "circle"
         },
         "mode": "lines",
         "name": "",
         "orientation": "v",
         "showlegend": false,
         "type": "scatter",
         "x": [
          0,
          1,
          2,
          3,
          4,
          5,
          6,
          7,
          8,
          9,
          10,
          11,
          12,
          13,
          14,
          15,
          16,
          17,
          18,
          19,
          20,
          21,
          22,
          23,
          24,
          25,
          26,
          27,
          28,
          29,
          30,
          31
         ],
         "xaxis": "x",
         "y": [
          0.13652657978237298,
          0.09963021841388048,
          0.1307040927921466,
          0.48298797423408557,
          0.49777857370021594,
          0.9925870642305138,
          0.9915666700450804,
          0.48298797423408557,
          0.49777857370021594,
          0.9925870642305138,
          0.9915666700450804,
          0.10611627141252565,
          0.1250578810841002,
          0.48213769218668,
          0.5372557981564747,
          0.5372557981564747,
          0.48213769218668,
          0.48213769218668,
          0.5372557981564747,
          0.5372557981564747,
          0.48213769218668,
          0.3541950755378206,
          0.3487421125039881,
          0.3487421125039881,
          0.3541950755378206,
          0.3541950755378206,
          0.3487421125039881,
          0.3487421125039881,
          0.3541950755378206,
          0.1297984535754255,
          0.1297984535754255,
          0.10611627141252565
         ],
         "yaxis": "y"
        }
       ],
       "layout": {
        "legend": {
         "tracegroupgap": 0
        },
        "template": {
         "data": {
          "bar": [
           {
            "error_x": {
             "color": "#2a3f5f"
            },
            "error_y": {
             "color": "#2a3f5f"
            },
            "marker": {
             "line": {
              "color": "#E5ECF6",
              "width": 0.5
             },
             "pattern": {
              "fillmode": "overlay",
              "size": 10,
              "solidity": 0.2
             }
            },
            "type": "bar"
           }
          ],
          "barpolar": [
           {
            "marker": {
             "line": {
              "color": "#E5ECF6",
              "width": 0.5
             },
             "pattern": {
              "fillmode": "overlay",
              "size": 10,
              "solidity": 0.2
             }
            },
            "type": "barpolar"
           }
          ],
          "carpet": [
           {
            "aaxis": {
             "endlinecolor": "#2a3f5f",
             "gridcolor": "white",
             "linecolor": "white",
             "minorgridcolor": "white",
             "startlinecolor": "#2a3f5f"
            },
            "baxis": {
             "endlinecolor": "#2a3f5f",
             "gridcolor": "white",
             "linecolor": "white",
             "minorgridcolor": "white",
             "startlinecolor": "#2a3f5f"
            },
            "type": "carpet"
           }
          ],
          "choropleth": [
           {
            "colorbar": {
             "outlinewidth": 0,
             "ticks": ""
            },
            "type": "choropleth"
           }
          ],
          "contour": [
           {
            "colorbar": {
             "outlinewidth": 0,
             "ticks": ""
            },
            "colorscale": [
             [
              0,
              "#0d0887"
             ],
             [
              0.1111111111111111,
              "#46039f"
             ],
             [
              0.2222222222222222,
              "#7201a8"
             ],
             [
              0.3333333333333333,
              "#9c179e"
             ],
             [
              0.4444444444444444,
              "#bd3786"
             ],
             [
              0.5555555555555556,
              "#d8576b"
             ],
             [
              0.6666666666666666,
              "#ed7953"
             ],
             [
              0.7777777777777778,
              "#fb9f3a"
             ],
             [
              0.8888888888888888,
              "#fdca26"
             ],
             [
              1,
              "#f0f921"
             ]
            ],
            "type": "contour"
           }
          ],
          "contourcarpet": [
           {
            "colorbar": {
             "outlinewidth": 0,
             "ticks": ""
            },
            "type": "contourcarpet"
           }
          ],
          "heatmap": [
           {
            "colorbar": {
             "outlinewidth": 0,
             "ticks": ""
            },
            "colorscale": [
             [
              0,
              "#0d0887"
             ],
             [
              0.1111111111111111,
              "#46039f"
             ],
             [
              0.2222222222222222,
              "#7201a8"
             ],
             [
              0.3333333333333333,
              "#9c179e"
             ],
             [
              0.4444444444444444,
              "#bd3786"
             ],
             [
              0.5555555555555556,
              "#d8576b"
             ],
             [
              0.6666666666666666,
              "#ed7953"
             ],
             [
              0.7777777777777778,
              "#fb9f3a"
             ],
             [
              0.8888888888888888,
              "#fdca26"
             ],
             [
              1,
              "#f0f921"
             ]
            ],
            "type": "heatmap"
           }
          ],
          "heatmapgl": [
           {
            "colorbar": {
             "outlinewidth": 0,
             "ticks": ""
            },
            "colorscale": [
             [
              0,
              "#0d0887"
             ],
             [
              0.1111111111111111,
              "#46039f"
             ],
             [
              0.2222222222222222,
              "#7201a8"
             ],
             [
              0.3333333333333333,
              "#9c179e"
             ],
             [
              0.4444444444444444,
              "#bd3786"
             ],
             [
              0.5555555555555556,
              "#d8576b"
             ],
             [
              0.6666666666666666,
              "#ed7953"
             ],
             [
              0.7777777777777778,
              "#fb9f3a"
             ],
             [
              0.8888888888888888,
              "#fdca26"
             ],
             [
              1,
              "#f0f921"
             ]
            ],
            "type": "heatmapgl"
           }
          ],
          "histogram": [
           {
            "marker": {
             "pattern": {
              "fillmode": "overlay",
              "size": 10,
              "solidity": 0.2
             }
            },
            "type": "histogram"
           }
          ],
          "histogram2d": [
           {
            "colorbar": {
             "outlinewidth": 0,
             "ticks": ""
            },
            "colorscale": [
             [
              0,
              "#0d0887"
             ],
             [
              0.1111111111111111,
              "#46039f"
             ],
             [
              0.2222222222222222,
              "#7201a8"
             ],
             [
              0.3333333333333333,
              "#9c179e"
             ],
             [
              0.4444444444444444,
              "#bd3786"
             ],
             [
              0.5555555555555556,
              "#d8576b"
             ],
             [
              0.6666666666666666,
              "#ed7953"
             ],
             [
              0.7777777777777778,
              "#fb9f3a"
             ],
             [
              0.8888888888888888,
              "#fdca26"
             ],
             [
              1,
              "#f0f921"
             ]
            ],
            "type": "histogram2d"
           }
          ],
          "histogram2dcontour": [
           {
            "colorbar": {
             "outlinewidth": 0,
             "ticks": ""
            },
            "colorscale": [
             [
              0,
              "#0d0887"
             ],
             [
              0.1111111111111111,
              "#46039f"
             ],
             [
              0.2222222222222222,
              "#7201a8"
             ],
             [
              0.3333333333333333,
              "#9c179e"
             ],
             [
              0.4444444444444444,
              "#bd3786"
             ],
             [
              0.5555555555555556,
              "#d8576b"
             ],
             [
              0.6666666666666666,
              "#ed7953"
             ],
             [
              0.7777777777777778,
              "#fb9f3a"
             ],
             [
              0.8888888888888888,
              "#fdca26"
             ],
             [
              1,
              "#f0f921"
             ]
            ],
            "type": "histogram2dcontour"
           }
          ],
          "mesh3d": [
           {
            "colorbar": {
             "outlinewidth": 0,
             "ticks": ""
            },
            "type": "mesh3d"
           }
          ],
          "parcoords": [
           {
            "line": {
             "colorbar": {
              "outlinewidth": 0,
              "ticks": ""
             }
            },
            "type": "parcoords"
           }
          ],
          "pie": [
           {
            "automargin": true,
            "type": "pie"
           }
          ],
          "scatter": [
           {
            "fillpattern": {
             "fillmode": "overlay",
             "size": 10,
             "solidity": 0.2
            },
            "type": "scatter"
           }
          ],
          "scatter3d": [
           {
            "line": {
             "colorbar": {
              "outlinewidth": 0,
              "ticks": ""
             }
            },
            "marker": {
             "colorbar": {
              "outlinewidth": 0,
              "ticks": ""
             }
            },
            "type": "scatter3d"
           }
          ],
          "scattercarpet": [
           {
            "marker": {
             "colorbar": {
              "outlinewidth": 0,
              "ticks": ""
             }
            },
            "type": "scattercarpet"
           }
          ],
          "scattergeo": [
           {
            "marker": {
             "colorbar": {
              "outlinewidth": 0,
              "ticks": ""
             }
            },
            "type": "scattergeo"
           }
          ],
          "scattergl": [
           {
            "marker": {
             "colorbar": {
              "outlinewidth": 0,
              "ticks": ""
             }
            },
            "type": "scattergl"
           }
          ],
          "scattermapbox": [
           {
            "marker": {
             "colorbar": {
              "outlinewidth": 0,
              "ticks": ""
             }
            },
            "type": "scattermapbox"
           }
          ],
          "scatterpolar": [
           {
            "marker": {
             "colorbar": {
              "outlinewidth": 0,
              "ticks": ""
             }
            },
            "type": "scatterpolar"
           }
          ],
          "scatterpolargl": [
           {
            "marker": {
             "colorbar": {
              "outlinewidth": 0,
              "ticks": ""
             }
            },
            "type": "scatterpolargl"
           }
          ],
          "scatterternary": [
           {
            "marker": {
             "colorbar": {
              "outlinewidth": 0,
              "ticks": ""
             }
            },
            "type": "scatterternary"
           }
          ],
          "surface": [
           {
            "colorbar": {
             "outlinewidth": 0,
             "ticks": ""
            },
            "colorscale": [
             [
              0,
              "#0d0887"
             ],
             [
              0.1111111111111111,
              "#46039f"
             ],
             [
              0.2222222222222222,
              "#7201a8"
             ],
             [
              0.3333333333333333,
              "#9c179e"
             ],
             [
              0.4444444444444444,
              "#bd3786"
             ],
             [
              0.5555555555555556,
              "#d8576b"
             ],
             [
              0.6666666666666666,
              "#ed7953"
             ],
             [
              0.7777777777777778,
              "#fb9f3a"
             ],
             [
              0.8888888888888888,
              "#fdca26"
             ],
             [
              1,
              "#f0f921"
             ]
            ],
            "type": "surface"
           }
          ],
          "table": [
           {
            "cells": {
             "fill": {
              "color": "#EBF0F8"
             },
             "line": {
              "color": "white"
             }
            },
            "header": {
             "fill": {
              "color": "#C8D4E3"
             },
             "line": {
              "color": "white"
             }
            },
            "type": "table"
           }
          ]
         },
         "layout": {
          "annotationdefaults": {
           "arrowcolor": "#2a3f5f",
           "arrowhead": 0,
           "arrowwidth": 1
          },
          "autotypenumbers": "strict",
          "coloraxis": {
           "colorbar": {
            "outlinewidth": 0,
            "ticks": ""
           }
          },
          "colorscale": {
           "diverging": [
            [
             0,
             "#8e0152"
            ],
            [
             0.1,
             "#c51b7d"
            ],
            [
             0.2,
             "#de77ae"
            ],
            [
             0.3,
             "#f1b6da"
            ],
            [
             0.4,
             "#fde0ef"
            ],
            [
             0.5,
             "#f7f7f7"
            ],
            [
             0.6,
             "#e6f5d0"
            ],
            [
             0.7,
             "#b8e186"
            ],
            [
             0.8,
             "#7fbc41"
            ],
            [
             0.9,
             "#4d9221"
            ],
            [
             1,
             "#276419"
            ]
           ],
           "sequential": [
            [
             0,
             "#0d0887"
            ],
            [
             0.1111111111111111,
             "#46039f"
            ],
            [
             0.2222222222222222,
             "#7201a8"
            ],
            [
             0.3333333333333333,
             "#9c179e"
            ],
            [
             0.4444444444444444,
             "#bd3786"
            ],
            [
             0.5555555555555556,
             "#d8576b"
            ],
            [
             0.6666666666666666,
             "#ed7953"
            ],
            [
             0.7777777777777778,
             "#fb9f3a"
            ],
            [
             0.8888888888888888,
             "#fdca26"
            ],
            [
             1,
             "#f0f921"
            ]
           ],
           "sequentialminus": [
            [
             0,
             "#0d0887"
            ],
            [
             0.1111111111111111,
             "#46039f"
            ],
            [
             0.2222222222222222,
             "#7201a8"
            ],
            [
             0.3333333333333333,
             "#9c179e"
            ],
            [
             0.4444444444444444,
             "#bd3786"
            ],
            [
             0.5555555555555556,
             "#d8576b"
            ],
            [
             0.6666666666666666,
             "#ed7953"
            ],
            [
             0.7777777777777778,
             "#fb9f3a"
            ],
            [
             0.8888888888888888,
             "#fdca26"
            ],
            [
             1,
             "#f0f921"
            ]
           ]
          },
          "colorway": [
           "#636efa",
           "#EF553B",
           "#00cc96",
           "#ab63fa",
           "#FFA15A",
           "#19d3f3",
           "#FF6692",
           "#B6E880",
           "#FF97FF",
           "#FECB52"
          ],
          "font": {
           "color": "#2a3f5f"
          },
          "geo": {
           "bgcolor": "white",
           "lakecolor": "white",
           "landcolor": "#E5ECF6",
           "showlakes": true,
           "showland": true,
           "subunitcolor": "white"
          },
          "hoverlabel": {
           "align": "left"
          },
          "hovermode": "closest",
          "mapbox": {
           "style": "light"
          },
          "paper_bgcolor": "white",
          "plot_bgcolor": "#E5ECF6",
          "polar": {
           "angularaxis": {
            "gridcolor": "white",
            "linecolor": "white",
            "ticks": ""
           },
           "bgcolor": "#E5ECF6",
           "radialaxis": {
            "gridcolor": "white",
            "linecolor": "white",
            "ticks": ""
           }
          },
          "scene": {
           "xaxis": {
            "backgroundcolor": "#E5ECF6",
            "gridcolor": "white",
            "gridwidth": 2,
            "linecolor": "white",
            "showbackground": true,
            "ticks": "",
            "zerolinecolor": "white"
           },
           "yaxis": {
            "backgroundcolor": "#E5ECF6",
            "gridcolor": "white",
            "gridwidth": 2,
            "linecolor": "white",
            "showbackground": true,
            "ticks": "",
            "zerolinecolor": "white"
           },
           "zaxis": {
            "backgroundcolor": "#E5ECF6",
            "gridcolor": "white",
            "gridwidth": 2,
            "linecolor": "white",
            "showbackground": true,
            "ticks": "",
            "zerolinecolor": "white"
           }
          },
          "shapedefaults": {
           "line": {
            "color": "#2a3f5f"
           }
          },
          "ternary": {
           "aaxis": {
            "gridcolor": "white",
            "linecolor": "white",
            "ticks": ""
           },
           "baxis": {
            "gridcolor": "white",
            "linecolor": "white",
            "ticks": ""
           },
           "bgcolor": "#E5ECF6",
           "caxis": {
            "gridcolor": "white",
            "linecolor": "white",
            "ticks": ""
           }
          },
          "title": {
           "x": 0.05
          },
          "xaxis": {
           "automargin": true,
           "gridcolor": "white",
           "linecolor": "white",
           "ticks": "",
           "title": {
            "standoff": 15
           },
           "zerolinecolor": "white",
           "zerolinewidth": 2
          },
          "yaxis": {
           "automargin": true,
           "gridcolor": "white",
           "linecolor": "white",
           "ticks": "",
           "title": {
            "standoff": 15
           },
           "zerolinecolor": "white",
           "zerolinewidth": 2
          }
         }
        },
        "title": {
         "text": "CER average case"
        },
        "xaxis": {
         "anchor": "y",
         "domain": [
          0,
          1
         ],
         "title": {
          "text": "pre-processing"
         }
        },
        "yaxis": {
         "anchor": "x",
         "domain": [
          0,
          1
         ],
         "title": {
          "text": "CER"
         }
        }
       }
      }
     },
     "metadata": {},
     "output_type": "display_data"
    }
   ],
   "source": [
    "import plotly.express as px\n",
    "import plotly.graph_objects as go\n",
    "\n",
    "# Generate same plots with plotly\n",
    "px.line(\n",
    "    y=mean_efectivity_jaccard, title=\"Jaccard similarity average case\"\n",
    ").update_layout(yaxis_title=\"Jaccard similarity\").update_layout(\n",
    "    xaxis_title=\"pre-processing\"\n",
    ").show()\n",
    "px.line(\n",
    "    y=mean_efectivity_cer, title=\"CER average case\"\n",
    ").update_layout(yaxis_title=\"CER\").update_layout(\n",
    "    xaxis_title=\"pre-processing\"\n",
    ").show()"
   ]
  },
  {
   "cell_type": "markdown",
   "metadata": {},
   "source": [
    "# Post-processing tests"
   ]
  },
  {
   "cell_type": "code",
   "execution_count": 11,
   "metadata": {},
   "outputs": [],
   "source": [
    "from src.text_postprocessor import *\n",
    "import plotly.graph_objects as go\n",
    "\n",
    "\n",
    "llm = OpenAIModel()\n",
    "\n",
    "# Extract LLM results\n",
    "llm_results = [llm.fix_text(result[1]) for result in results]\n",
    "llm_results = [normalize_text(text) for text in llm_results]\n",
    "\n",
    "# Calculate Jaccard similarity for LLM results\n",
    "llm_jaccard = [jaccard_similarity(texts[i], llm_results[i]) for i in range(len(texts))]\n",
    "\n",
    "# Calculate CER for LLM results\n",
    "llm_cer = [cer_similarity(texts[i], llm_results[i]) for i in range(len(texts))]\n",
    "\n",
    "llm = OpenAIModel()"
   ]
  },
  {
   "cell_type": "code",
   "execution_count": 12,
   "metadata": {},
   "outputs": [
    {
     "name": "stdout",
     "output_type": "stream",
     "text": [
      "Real text 0:\n",
      "el ilustre criminalista dr enrique roig no puede aceptar el homenaje que con tanto entusiasmo se estaba organizando los organizadores de dicho homenaie cronis as de tribunales de los ca pitalinos se inclinan ante el deseo reiterado del dr roig de recibir cada uno de ellos una carta diciendo queridos y buenos amigos personalmente les he rogado desistieran de su generoso en homecenajearme por mi restablecimiento lo que en lo absoluto no merez co ahora por este medio vuelvo a rogarles la de dicho acto mi gratitud como a las personas que me han crito por mi salud en cartas que como un preciado muy suyo agradecido de ustedes firmado enrique roig y agrega como p s si soy algo en mi de abogado a ustedes es a quienes se lo debo como ya indicamos al lanzar la idea del homenaje ni siquiera consulado al dr roig y me nos a su por dicho motivo admitimos ias numerosas inscripciones que llegado pero no se pusieron en los recibos para el cobro no nos resta pues por nuestra parte q lamentar la imposibilidad de celebrar el acto y dar las gracias a las numerosas personas que cooperaron con nosotros en seguida al homenaje\n",
      "\n",
      "Tesseract text 0:\n",
      "el ilustre criminalista dr enrique puede aceptar el homena je que con tanto entusiasmo se es taba los organizado res de dicho homenaje cronis as de tribunales de los ca pitalinos se inclinan ante el deseo reiterado del dr roig de recibir cada uno de ellos una carta diciendo l queridos y buenos amigos per sonalmente les he rogado desistie ran de su generoso en ho u enajearme por mi to lo que en lo absoluto no merez ahora por este medio vuelvo a rogaries la de dicho acto mi gratitud com a las persones que me han crito por mi salud en cartas que como un precia do muy suyo agradecido de ustedes firmado enri que roig y agrega como p si soy al go en mi de abogado a us tedes es a quienes se lo debo como ya indicamos al lanzar la idea del homenaje ni siquiera ha consul ado al dr roig y me nos a su por dicho motivo admitimos ls mumerosas inserip ciones que llegado pero no se pusieron en los reci bos para el ccbro no nos resta pues por nuestra parte q lamentar ja imposibilidad de celebrar el acto y car las grecias a las numercsas per sonas que cooperaron con nosotros e en seguida al homena jo\n",
      "Llm text 0:\n",
      "el ilustre criminalista dr enrique roig puede aceptar el homenaje que con tanto entusiasmo se estaba organizando los organizadores de dicho homenaje cronistas de tribunales de los capitalinos se inclinan ante el deseo reiterado del dr roig de recibir cada uno de ellos una carta diciendo queridos y buenos amigos personalmente les he rogado desistencia de su generoso en enajenarme por todo lo que en absoluto no merezco ahora por este medio vuelvo a rogarles la desistiencia de dicho acto mi gratitud a las personas que me han escrito por mi salud en cartas que como un precioso obsequio muy suyo agradecido de ustedes firmado enrique roig y agrega como soy al go en mi de abogado a ustedes es a quienes se lo debo como ya indicamos al lanzar la idea del homenaje ni siquiera hemos consultado al dr roig y menos a su debido motivo admitimos las numerosas inscripciones que llegaron pero no se pusieron en los recibidos para el ccbro no nos resta pues por nuestra parte que lamentar la imposibilidad de celebrar el acto y agradecer las gracias a las numerosas personas que cooperaron con nosotros inmediatamente al homenaje\n",
      "\n",
      "Distance:  0.6986301369863014  Previous:  0.6265060240963856\n",
      "Distance:  0.10596616206589493  Previous:  0.06881143878462913\n",
      "Real text 1:\n",
      "tenia rodriguez de edad cuando en el mes de octubre se a la revolu a las fuerzas de donato y tamayo ya con el grado de comandan te y al mando de contingente de tropas guantanameras de la batalla del naranjo donde grave herida en la pierna izquierda que lo para marchar a las villas teniente coronel\n",
      "\n",
      "Tesseract text 1:\n",
      "penia rodiguez desedad cuando en el mes de octubre se a ja fevola a a las fuerzas de donato y tamayo es con el grado de comandan te y al mando de contingente de tropas guantanameras parti de la batalla del naranjo donde grave herida en la pierna izquierda que lo para marchar a las villas lo oreniente coronel\n",
      "Llm text 1:\n",
      "cuando en el mes de octubre se a ja fue a las fuerzas de donato y tamayo es con el grado de comandante y al mando de un contingente de tropas guantanameras de la batalla del naranjo donde grave herida en la pierna izquierda que lo marchar a las villas orientales coronel\n",
      "\n",
      "Distance:  0.6938775510204082  Previous:  0.7254901960784313\n",
      "Distance:  0.1610738255033557  Previous:  0.06796116504854369\n",
      "Real text 2:\n",
      "documentos fe de bautismo expedida por el paro d salvador negre cura de la iglesia parroquial del santo de fecha sept de certificando el bautizo en agosto de de juan pascual nacido el de junio de hijo de d pascual rodriguez y de da rosa naturales de esta ciudad abuelos paternos d felix rodriguez y da juana montero maternos d de la luz y da del carmen\n",
      "\n",
      "Tesseract text 2:\n",
      "fe de bautismo expedida por el pbro d salvador ne qe cura de la iglesia porroquial del depiritu sento de teca sept de certificando a bautismo en agosto de de pascual necido el de junio de hijo de d pascual y de da rosa natumles de esta ciudad abuelos peteznos d yde lontero maternos d de la luz y da del carmen\n",
      "Llm text 2:\n",
      "fe de bautismo expedida por el pbro d salvador ne que cura de la iglesia parroquial del santo de teca sept de certificando a bautismo en agosto de de pascual nacido el de junio de hijo de d pascual y de da rosa natumles de esta ciudad abuelos paternos d y de lontero maternos d de la luz y da del carmen\n",
      "\n",
      "Distance:  0.64  Previous:  0.5\n",
      "Distance:  0.17613636363636365  Previous:  0.2159090909090909\n",
      "Real text 3:\n",
      "la entrevista viene en el espacio se lo llevan las y pensar que sumar docenas las cuartillas dedicadas a hablar de nuestro querido gonzalo roig\n",
      "\n",
      "Tesseract text 3:\n",
      "a viene en la el espacio se lo llevan las y pensar que po sumar docenas las cuarti las dedicadas a hablar de nues tro querido gonzalo roig\n",
      "Llm text 3:\n",
      "a viene en el espacio se lo llevan las y pensar que podemos sumar docenas las cuartias dedicadas a hablar de nuestro querido gonzalo roig\n",
      "\n",
      "Distance:  0.8076923076923077  Previous:  0.75\n",
      "Distance:  0.15384615384615385  Previous:  0.13286713286713286\n",
      "Real text 4:\n",
      "un dia como hoy de mayo de y rodriguez en santiago de cuba el de junio de felipe martinez arango sintetiza su vida en los siguientes grande de cuba conspi rador patriota y ciudadano esclarecido veterano de todas las guerras libertadoras mayor general de la guerra de independencia de modesto y valiente notable del arma de muy estimado por y maceo muy joven de santiago en como tantos otros de la ciudad para incorporarse a las tropas de donato a la muerte de importante papel en la aguerrida de cuba a la que pertene cia como jefe de ayudantes del general hasta hacerse cargo de dichas tropas en sus de herido de gravedad varias veces alcanzando el grado de coronel en la guerra grande por de guerra valerosamente en agosto de a salvar la vida de antonio maceo en la jornada de los mangos de mejia\n",
      "\n",
      "Tesseract text 4:\n",
      "n como hoy de mayo de mu u y en santiago de cuba el de junio de a t felipe arango sintetiza su vida en os siguientes grande de cuba conspi rador patriota y ciudadano esclarecido veterano ide todas las guerras libertadoras mayor general de la guerra de independencia de modesto y valiente notable del arma de muy estimado por y maceo muy joven de santiago en como tantos otros de ja ciudad para incorporarse a las tropas de donato a la muerte de importante papel en la aguerrida de cuba a la que pertene como jefe de ayudantes del general hasta hacerse cargo de dichas tropas en sus de herido de gravedad varias veces alcan zando el grado de coronel en la guerra grande por de guerra valerosamente en agosto de a salvar la vida de antonio maceo en la jornada de los mangos de\n",
      "Llm text 4:\n",
      "como hoy de mayo de y en santiago de cuba el de junio de felipe arango sintetiza su vida en los siguientes grandes de cuba conspirador patriota y ciudadano esclarecido veterano de todas las guerras libertadoras mayor general de la guerra de independencia de cuba y modesto y valiente notable del arma de muy estimado por maceo muy joven de santiago como tantos otros de la ciudad para incorporarse a las tropas de donato a la muerte de un importante papel en la guerra aguerrida de cuba a la que como jefe de ayudantes del general hasta hacerse cargo de dichas tropas en sus filas fue herido de gravedad varias veces alcanzando el grado de coronel en la guerra grande por su en guerra en agosto de la vida de antonio maceo en la jornada de los mangos\n",
      "\n",
      "Distance:  0.8390804597701149  Previous:  0.8260869565217391\n",
      "Distance:  0.13157894736842105  Previous:  0.05137844611528822\n",
      "Real text 5:\n",
      "vasconcelos de el pais mi admirado y amigo gracias por su do ayer tan compresivo y tan cordial cua lidades estas que no han abundado en los mil comentarios que a la indiferencia del medio mi de la democracia usted no de acuerdo conmigo sino en parte intolectual que sin embargo usted ha sido de una vez do los males las terribles lo anularon usted hubiera debido ya no creer en ese absurdo que se defiende con sutilezas y hasta con banalidades\n",
      "\n",
      "Tesseract text 5:\n",
      "ps vasconcelos ju oca a ro e e de blpais di a irado y amigo de las por su do ayor fan comprensivo y tan cordial cues hdades que no han abundado dh los mil comentarios que la indifotendja ga medio mi de la democracia usted no de acuerdo sino on parte intelectual quo e embargo usted ha sido do una vez do los fnalds las torriblgs lo anularon usted hubiera debido ya no ervor en eso absurdo que so defiende con sutilezas ly hasta congbanalidades se y\n",
      "Llm text 5:\n",
      "ps vasconcelos ju oca a ro e e de blpais di a irado y amigo de las por su do ayor fan comprensivo y tan cordial cues hdades que no han abundado dh los mil comentarios que la indifotendja ga medio mi de la democracia usted no de acuerdo sino on parte intelectual quo e embargo usted ha sido do una vez do los fnalds las torriblgs lo anularon usted hubiera debido ya no ervor en eso absurdo que so defiende con sutilezas ly hasta congbanalidades se y\n",
      "\n",
      "Distance:  0.48863636363636365  Previous:  0.48863636363636365\n",
      "Distance:  0.1875  Previous:  0.1875\n",
      "Real text 6:\n",
      "el mayor general alejandro y velasco en sancti spiritus el de noviembre de justamente cien hijo de padres que disfrutaban de buena fuele dado recibir una esmerada adquirir amplia cultura general y poseer tres idiomas el propio el y el cuando la de yara alejandro rodriguez se a la manigua sirviendo a las de los generales honorato y angel del castillo acosta varona y marcos garcia las vicisitudes de la guerra ronle pasar a residir a durante algunos meses en trasla\n",
      "\n",
      "Tesseract text 6:\n",
      "el mayor general alejandro y velasco en sancti rs el de noyiembre de justamente cien hijo de padres que disfrutaban de buena fuele dado reci bir una esmerada adquirir amplia cultura general y poseer tres idiomas el propio el y el cuando la de yara alejandro rodriguez se a la manigua sirviendo a las denes de los generales honorato y angel del castillo acosta varona y marcos las vicisitudes de la guerra ronle pasar a residir a durante algunos meses en trasla\n",
      "Llm text 6:\n",
      "el mayor general alejandro y velasco en san el de noviembre de justamente cien hijo de padres que disfrutaban de buena fe fue dado a recibir una esmerada para adquirir amplia cultura general y poseer tres idiomas el propio alejandro y el de yara alejandro se a la manigua sirviendo a las de los generales honorato y del castillo acosta varona y marcos las vicisitudes de la guerra le hicieron pasar a residir a durante algunos meses en trasla\n",
      "\n",
      "Distance:  0.78125  Previous:  0.8571428571428571\n",
      "Distance:  0.148068669527897  Previous:  0.045064377682403435\n",
      "Real text 7:\n",
      "aclara el dr hermida el alcance de una investigacion el ministro de doctor o hermida a los periodistas en con la a que sometido el doctor luis ro driguez rivero por agentes del servicio de inteligencia mili tar que dicho funcionario disfrutando de su plena confianza como la del coronel blanco rico la verificada una de mero de la que el doctor rivero como decimos con superiores de competencia y aptitud administrativa\n",
      "\n",
      "Tesseract text 7:\n",
      "aclara el dr hermida el y alcance de una investi da dad a laa sl on y el mibistro de doctor o hermida a los periodistas en pod yl con la y que sometido el doctor ir dues rise por agentes del servicio de inteligencia mili tar que dicho funcionario con disfrutando de su plena confianza como la del co ronel blanco rico la verificada una investi de mero de la que el doctor rivero como decimos con su periores de competencia y aptitud administrativa\n",
      "Llm text 7:\n",
      "aclara el dr hermida el alcance de una a la salud y el ministro de doctor hermida a los periodistas en poder y con la que se al doctor rivero por agentes del servicio de inteligencia militar que dicho funcionario con disfrutando de su plena confianza como la del coronel blanco rico la verificada una de la que el doctor rivero como decimos con su periodo de competencia y aptitud administrativa\n",
      "\n",
      "Distance:  0.7037037037037037  Previous:  0.6507936507936508\n",
      "Distance:  0.15513126491646778  Previous:  0.12304250559284116\n",
      "Real text 8:\n",
      "luego a los estados unidos para ponerse a las del agente de la don miguel aldama aun de la paz del no rodriguez a cuba hasta el de habiendo tomado parte en cuantos trabajos se emprendieron en pro de la independencia de cuba a su regreso a se en camagiiey donde en la entonces ciudad de puerto principe y en el campo algunos intereses se un revolucionario presidido por don salvador cisneros betancourt de santa del cual fue tesorero rodriguez se a la encomienda de pasar a montecristi en santo domingo a fin de entrevistarse con el general de alli se a new york para conferenciar con marti retornando luego a camagiiey en el mes de junio de alejandro velasco se en armas en su finca con algunos de sus empleados vecinos y amigos y se al general que acababa de llegar a la provincia siendo nombrado teniente coronel de y jefe del regimiento agramonte pues primeramente al mando de una fuerza de en operaciones sobre el ferrocarril de nuevitas a puerto principe o sea la parte norte de la provincia de camagiiey comprendida en el tercer ouerpo del libertador al desembarcar la de piedra en la citada provincia fue comisionado por el mayor general manuel para llevar armas y municiones al general en jefe cumplido lo cual fue ascendido a\n",
      "\n",
      "Tesseract text 8:\n",
      "luego a los estados unidos para ponerse a las del agen te de la don miguel aldama aun de la paz del no a cuba hasta el de habiendo tomado parte en cuantos trabajos se emprendieron en pro de la independencia de cuba a su regreso a so en camagiiey donde en la entonces ciudad de puerto principe y en el campo algunos intereses se un revolucionario presidido por don salvador cisneros betancourt mar de santa del cual fue tesorero se a la encomienda de a montecristi en domingo a fin deen trevistarse con el general de alli se a new york para conferenciar con retornando luego a camagiiey en el mes de junio de alejandro velasco se en afmas en su finca con algunos de sus empleados vecinos y amigos y se al general que acababa de llegar a la provincia siendo teniente y jefe del regimiento agramonte pe ner mente al mando de una fuerza de en operaciones sobre el ferrocarril de nuevitas a puerto principe o sea la parte norte de la provincia de camagiley compren dida en el tercer cuerpo del libertador al delia barol la de piedra en la citada provincia fue comisionado porel mayor general manuel para llevar armas y municiones al general en to cumplido lo cual fue ascendido a\n",
      "Llm text 8:\n",
      "luego a los estados unidos para ponerse a las del agente de la don miguel aldama aun de la paz del no a cuba hasta el de habiendo tomado parte en cuantos trabajos se emprendieron en pro de la independencia de cuba a su regreso a donde en la entonces ciudad de puerto y en el campo algunos intereses se unieron a un revolucionario presidido por don salvador cisneros betancourt mar de santa del cual fue tesorero se a la encomienda de montecristi en domingo a fin de entrevistarse con el general de se a nueva york para conferenciar con el general retornando luego a en el mes de junio de alejandro velasco se en afmas en su finca con algunos de sus empleados vecinos y amigos y se al general que acababa de llegar a la provincia siendo teniente y jefe del regimiento agramonte pendiente al mando de una fuerza de en operaciones sobre el ferrocarril de nuevitas a puerto o sea la parte norte de la provincia de comprendida en el tercer cuerpo del libertador al delia barol la de piedra en la citada provincia fue comisionado por el mayor general manuel para llevar armas y municiones al general en to cumplido lo cual fue ascendido a\n",
      "\n",
      "Distance:  0.8203125  Previous:  0.7737226277372263\n",
      "Distance:  0.1312803889789303  Previous:  0.07212317666126418\n",
      "Real text 9:\n",
      "enrique varona un esclarecido cubano que en la decisiva y peligrosa de nuestra historia nacional supo y quiso darle a la patria una de positiva evolutiva y realista tomada de los mejores pensamientos de la cultura universal para que el cubano pudiera vencer a los mostruos que desde las sombras quisieran perpetuar la par vulez de la patria\n",
      "\n",
      "Tesseract text 9:\n",
      "enrique varona un esclarecido cubano que en la ca decisiva y peligrosa de nuestra historia nacional supo y quiso darla a la patria una de positiva evolutiva y realista tomada de los mejores pensamien tos de la cultura universal para que el cubano pudiera vencer a los mostruos que desde las sombras quisieran perpetuar la par vulez de la patria\n",
      "Llm text 9:\n",
      "enrique varona un esclarecido cubano que en la decisiva y peligrosa de nuestra historia nacional supo y quiso dar a la patria una positiva evolutiva y realista tomada de los mejores pensamientos de la cultura universal para que el cubano pudiera vencer a los monstruos que desde las sombras quisieran perpetuar la parvulez de la patria\n",
      "\n",
      "Distance:  0.8444444444444444  Previous:  0.8695652173913043\n",
      "Distance:  0.020588235294117647  Previous:  0.014534883720930232\n",
      "Real text 10:\n",
      "pasaron los un supe que aquel maestro de la palabra estaba gravemente enfermo ya estaba retirado de las luchas poli ticas en las que participado brillantemente parlamentario muy de natural e ocuencia de dialectica en la que se al maestro de la oratoria forense no en la vida de la na el lugar relevante a que e daban derecho sus cualidades\n",
      "\n",
      "Tesseract text 10:\n",
      "pi atc bs un supe que aquel de la palabra est mente enfermo ya estaba sel de las luchas ticas en jas que participa do brillantemente parlamentario mby de natural e ocuencia de sidibicidea jen la que se al a la oratoria forense no do a hh de la na e feleyante a que e dafiah des cualidades ed\n",
      "Llm text 10:\n",
      "pi atc bus un super que aquel de la palabra mente enfermo ya estaba sel de las luchas ticas en jas que participaba brillantemente parlamentario mby de natural e influencia de suicidio gen la que se al a la oratoria forense no do a hh de la na e feleyante a que e dafiah des cualidades ed\n",
      "\n",
      "Distance:  0.4098360655737705  Previous:  0.45\n",
      "Distance:  0.2861356932153392  Previous:  0.2536873156342183\n",
      "Real text 11:\n",
      "pablo rodriguez piedra un dia como hoy de diciembre de pablo rodriguez piedra quiso el destino que pasara sus en la de la habana donde se la de sus y las autoridades de penal la revista redactada e impresa por los reclusos de la como al moderno penitenciario cubano se hizo eco de los merecimientos de este hombre modesto en la forma a que vamos a referirnos pero antes aprovecharemos esta oportunidad para des tacar la obra del consejo asesor de esta revista compuesto de las siguientes personas m supervisor de la eduardo santo presidente del consejo de miguel a d pisani secretario del consejo de francisco r de director de la y gonzalo bernabeu casanova jefe de los talleres de imprenta y nos satisface incluir en esa gran obra al cuerpo de compuesto por rolando pulido redactor jefe geordano regente de y angel maldonado regente de emplane a todos ellos debe cuba una revista redactada e impresa en la de la habana que es orgullo de todos en las de se la obra de pablo piedra en la de la habana consignando que se le primer auxiliar de orden y disciplina y expresando que a su tesonera voluntad a sus conocimientos mu sicales a ese de dar alicientes y motivos de entretenimiento espiritual a sus debemos la de contar con un grupo musical que es a la vez ejercicio educacional y exponente de la capacidad interpretativa de los penados\n",
      "\n",
      "Tesseract text 11:\n",
      "pablo piedra un como hoy de diciembre de pablo piedra quiso el destino que pasara sus en la de la habana donde se la es de sus y las autoridades de penal y la revista redactada e impresa po los reclusos de la como al mo derno penitenciario cubano se hizo eco de los merecimientos de este hombre modesto en la forma a que vamos a referirnos pero antes aprovecharemos esta oportunidad para des tacar la obra del consejo asesor de esta revista compuesto de las siguien tes personas m supervisor de la eduardo santo presidente de consejo de miguel a d pisani secretario del consejo de fran cisco r de director de la y gonzalo bernabeu casanova jefe de los talle tes de imprenta y nos satisface incluir en esa gran obra al cuerpo de com puesto por rolando pulido redactor jefe geordano regente de y angel maldonado regenta de emplane a todos ellos debe cuba una zevista redactada impresa en la de la habeas que es or gullo de todos en las de se la obra de pablo piedra en la de la habana consignando que se le primer auxiliar de orden y disciplina y expresando que a su tesonera voluntad a sus conocimientos mu sicales a ese de dar alicientes y motivos de entretenimiento espiritual a sus debemos la de contar con un grupo musical que es q ja vez ejercicio educacional y exponente la capacidad interpretativa de los onda\n",
      "Llm text 11:\n",
      "pablo piedra un hombre como hoy de diciembre de quiso el destino que pasaran sus en la habana donde se la es de sus mejores recuerdos las autoridades de penal y la revista redactada e impresa por los reclusos del moderno penitenciario cubano se hizo eco de los merecimientos de este hombre modesto en la forma en que vamos a referirnos pero antes aprovecharemos esta oportunidad para destacar la obra del consejo asesor de esta revista compuesto de las siguientes personas miguel a pisani supervisor de la revista eduardo santo presidente del consejo francisco r de director de la revista gonzalo casanova jefe de los talleres de imprenta y nos satisface incluir en esa gran obra al cuerpo compuesto por rolando pulido redactor jefe giordano regente de y maldonado redactor a todos ellos debe cuba una revista redactada e impresa en la habana que es orgullo de todos en las de la obra de pablo piedra en la habana consignando que se le primer auxiliar de orden y disciplina y expresando que a su tesonera voluntad a sus conocimientos musicales ese deseo de dar alicientes y motivos de entretenimiento espiritual a sus debemos la existencia de un grupo musical que es a la vez ejercicio educacional y exponente de la capacidad interpretativa de los internos\n",
      "\n",
      "Distance:  0.8129496402877698  Previous:  0.8243243243243243\n",
      "Distance:  0.1696562032884903  Previous:  0.04110612855007474\n",
      "Real text 12:\n",
      "la cubana y revolucionaria es laica y anticlerical no es posible ser al mismo tiempo buen y buen cubano condiciones recibes cada articulo y escribes o mandas escribir al p rubinos u otro de tus consejeros la respuesta y la publicas en la columna vecina a mi yo me comprometo a no usar que documentos en los trabajos y y no de renegados ni ex comulgados sino de los que vivieron y murieron en el seno de la iglesia y en el textos de grandes figuras cubanas ya fallecidas por te ofrezco no emplear en ninguno de los cuatro la palabra clericanalla aceptas a que no te atreves o tu confesor y espiritual no te deja tu\n",
      "\n",
      "Tesseract text 12:\n",
      "la cubana y revolucionaria es laica y anticlerical no es posible ser al mismo tiempo buen y buen cubano condiciones recibes cada ar y escribes o mandas escribir al p rubinos u otro de tus consejeros la respuesta y la publicas en la co lumna vecina a mi yo me comprometo a no usar que docu mentos en los trabajos y y ho de renegados ni ex comulgados sino de los que vivieron y murieron en el seno de la iglesia y en el textos de grandes figuras cuba nas ya fallecidas por te ofrez co no emplear en ninguno de los cua tro la palabra clericanalla aceptas a queno te atreves o tu confesor y espiritual no te deja tu\n",
      "Llm text 12:\n",
      "la cubana y revolucionaria es laica y anticlerical no es posible ser al mismo tiempo buen cubano y buen recibes cada y escribes o mandas escribir al p rubinos u otro de tus consejeros la respuesta y la publicas en la columna vecina a la yo me comprometo a no usar en los trabajos y hoy de renegados ni excomulgados sino de los que vivieron y murieron en el seno de la iglesia y en los textos de grandes figuras cubanas ya fallecidas por te ofrezco no emplear en ninguno de los cuatro la palabra clerical acepta a no te atreves o tu confesor y espiritual no te deja\n",
      "\n",
      "Distance:  0.8481012658227848  Previous:  0.7931034482758621\n",
      "Distance:  0.10277324632952692  Previous:  0.021207177814029365\n"
     ]
    }
   ],
   "source": [
    "for i in range(len(results)):\n",
    "    \n",
    "    print(f\"Real text {i}:\\n{texts[i]}\\n\")\n",
    "    \n",
    "    print(f\"Tesseract text {i}:\\n{results[i][1]}\\n\")\n",
    "    \n",
    "    print(f\"Llm text {i}:\\n{llm_results[i]}\\n\")\n",
    "    \n",
    "    print(\"Distance: \", llm_jaccard[i], \" Previous: \", mt_jaccard[i, 1])\n",
    "    print(\"Distance: \", llm_cer[i], \" Previous: \", mt_cer[i, 1])"
   ]
  },
  {
   "cell_type": "code",
   "execution_count": 13,
   "metadata": {},
   "outputs": [
    {
     "data": {
      "application/vnd.plotly.v1+json": {
       "config": {
        "plotlyServerURL": "https://plot.ly"
       },
       "data": [
        {
         "mode": "lines+markers",
         "name": "LLM Jaccard Similarity",
         "type": "scatter",
         "x": [
          0,
          1,
          2,
          3,
          4,
          5,
          6,
          7,
          8,
          9,
          10,
          11,
          12
         ],
         "y": [
          0.6986301369863014,
          0.6938775510204082,
          0.64,
          0.8076923076923077,
          0.8390804597701149,
          0.48863636363636365,
          0.78125,
          0.7037037037037037,
          0.8203125,
          0.8444444444444444,
          0.4098360655737705,
          0.8129496402877698,
          0.8481012658227848
         ]
        },
        {
         "mode": "lines+markers",
         "name": "Tesseract Jaccard Similarity",
         "type": "scatter",
         "x": [
          0,
          1,
          2,
          3,
          4,
          5,
          6,
          7,
          8,
          9,
          10,
          11,
          12
         ],
         "y": [
          0.6265060240963856,
          0.7254901960784313,
          0.5,
          0.75,
          0.8260869565217391,
          0.48863636363636365,
          0.8571428571428571,
          0.6507936507936508,
          0.7737226277372263,
          0.8695652173913043,
          0.45,
          0.8243243243243243,
          0.7931034482758621
         ]
        }
       ],
       "layout": {
        "legend": {
         "title": {
          "text": "Legend"
         }
        },
        "template": {
         "data": {
          "bar": [
           {
            "error_x": {
             "color": "#2a3f5f"
            },
            "error_y": {
             "color": "#2a3f5f"
            },
            "marker": {
             "line": {
              "color": "#E5ECF6",
              "width": 0.5
             },
             "pattern": {
              "fillmode": "overlay",
              "size": 10,
              "solidity": 0.2
             }
            },
            "type": "bar"
           }
          ],
          "barpolar": [
           {
            "marker": {
             "line": {
              "color": "#E5ECF6",
              "width": 0.5
             },
             "pattern": {
              "fillmode": "overlay",
              "size": 10,
              "solidity": 0.2
             }
            },
            "type": "barpolar"
           }
          ],
          "carpet": [
           {
            "aaxis": {
             "endlinecolor": "#2a3f5f",
             "gridcolor": "white",
             "linecolor": "white",
             "minorgridcolor": "white",
             "startlinecolor": "#2a3f5f"
            },
            "baxis": {
             "endlinecolor": "#2a3f5f",
             "gridcolor": "white",
             "linecolor": "white",
             "minorgridcolor": "white",
             "startlinecolor": "#2a3f5f"
            },
            "type": "carpet"
           }
          ],
          "choropleth": [
           {
            "colorbar": {
             "outlinewidth": 0,
             "ticks": ""
            },
            "type": "choropleth"
           }
          ],
          "contour": [
           {
            "colorbar": {
             "outlinewidth": 0,
             "ticks": ""
            },
            "colorscale": [
             [
              0,
              "#0d0887"
             ],
             [
              0.1111111111111111,
              "#46039f"
             ],
             [
              0.2222222222222222,
              "#7201a8"
             ],
             [
              0.3333333333333333,
              "#9c179e"
             ],
             [
              0.4444444444444444,
              "#bd3786"
             ],
             [
              0.5555555555555556,
              "#d8576b"
             ],
             [
              0.6666666666666666,
              "#ed7953"
             ],
             [
              0.7777777777777778,
              "#fb9f3a"
             ],
             [
              0.8888888888888888,
              "#fdca26"
             ],
             [
              1,
              "#f0f921"
             ]
            ],
            "type": "contour"
           }
          ],
          "contourcarpet": [
           {
            "colorbar": {
             "outlinewidth": 0,
             "ticks": ""
            },
            "type": "contourcarpet"
           }
          ],
          "heatmap": [
           {
            "colorbar": {
             "outlinewidth": 0,
             "ticks": ""
            },
            "colorscale": [
             [
              0,
              "#0d0887"
             ],
             [
              0.1111111111111111,
              "#46039f"
             ],
             [
              0.2222222222222222,
              "#7201a8"
             ],
             [
              0.3333333333333333,
              "#9c179e"
             ],
             [
              0.4444444444444444,
              "#bd3786"
             ],
             [
              0.5555555555555556,
              "#d8576b"
             ],
             [
              0.6666666666666666,
              "#ed7953"
             ],
             [
              0.7777777777777778,
              "#fb9f3a"
             ],
             [
              0.8888888888888888,
              "#fdca26"
             ],
             [
              1,
              "#f0f921"
             ]
            ],
            "type": "heatmap"
           }
          ],
          "heatmapgl": [
           {
            "colorbar": {
             "outlinewidth": 0,
             "ticks": ""
            },
            "colorscale": [
             [
              0,
              "#0d0887"
             ],
             [
              0.1111111111111111,
              "#46039f"
             ],
             [
              0.2222222222222222,
              "#7201a8"
             ],
             [
              0.3333333333333333,
              "#9c179e"
             ],
             [
              0.4444444444444444,
              "#bd3786"
             ],
             [
              0.5555555555555556,
              "#d8576b"
             ],
             [
              0.6666666666666666,
              "#ed7953"
             ],
             [
              0.7777777777777778,
              "#fb9f3a"
             ],
             [
              0.8888888888888888,
              "#fdca26"
             ],
             [
              1,
              "#f0f921"
             ]
            ],
            "type": "heatmapgl"
           }
          ],
          "histogram": [
           {
            "marker": {
             "pattern": {
              "fillmode": "overlay",
              "size": 10,
              "solidity": 0.2
             }
            },
            "type": "histogram"
           }
          ],
          "histogram2d": [
           {
            "colorbar": {
             "outlinewidth": 0,
             "ticks": ""
            },
            "colorscale": [
             [
              0,
              "#0d0887"
             ],
             [
              0.1111111111111111,
              "#46039f"
             ],
             [
              0.2222222222222222,
              "#7201a8"
             ],
             [
              0.3333333333333333,
              "#9c179e"
             ],
             [
              0.4444444444444444,
              "#bd3786"
             ],
             [
              0.5555555555555556,
              "#d8576b"
             ],
             [
              0.6666666666666666,
              "#ed7953"
             ],
             [
              0.7777777777777778,
              "#fb9f3a"
             ],
             [
              0.8888888888888888,
              "#fdca26"
             ],
             [
              1,
              "#f0f921"
             ]
            ],
            "type": "histogram2d"
           }
          ],
          "histogram2dcontour": [
           {
            "colorbar": {
             "outlinewidth": 0,
             "ticks": ""
            },
            "colorscale": [
             [
              0,
              "#0d0887"
             ],
             [
              0.1111111111111111,
              "#46039f"
             ],
             [
              0.2222222222222222,
              "#7201a8"
             ],
             [
              0.3333333333333333,
              "#9c179e"
             ],
             [
              0.4444444444444444,
              "#bd3786"
             ],
             [
              0.5555555555555556,
              "#d8576b"
             ],
             [
              0.6666666666666666,
              "#ed7953"
             ],
             [
              0.7777777777777778,
              "#fb9f3a"
             ],
             [
              0.8888888888888888,
              "#fdca26"
             ],
             [
              1,
              "#f0f921"
             ]
            ],
            "type": "histogram2dcontour"
           }
          ],
          "mesh3d": [
           {
            "colorbar": {
             "outlinewidth": 0,
             "ticks": ""
            },
            "type": "mesh3d"
           }
          ],
          "parcoords": [
           {
            "line": {
             "colorbar": {
              "outlinewidth": 0,
              "ticks": ""
             }
            },
            "type": "parcoords"
           }
          ],
          "pie": [
           {
            "automargin": true,
            "type": "pie"
           }
          ],
          "scatter": [
           {
            "fillpattern": {
             "fillmode": "overlay",
             "size": 10,
             "solidity": 0.2
            },
            "type": "scatter"
           }
          ],
          "scatter3d": [
           {
            "line": {
             "colorbar": {
              "outlinewidth": 0,
              "ticks": ""
             }
            },
            "marker": {
             "colorbar": {
              "outlinewidth": 0,
              "ticks": ""
             }
            },
            "type": "scatter3d"
           }
          ],
          "scattercarpet": [
           {
            "marker": {
             "colorbar": {
              "outlinewidth": 0,
              "ticks": ""
             }
            },
            "type": "scattercarpet"
           }
          ],
          "scattergeo": [
           {
            "marker": {
             "colorbar": {
              "outlinewidth": 0,
              "ticks": ""
             }
            },
            "type": "scattergeo"
           }
          ],
          "scattergl": [
           {
            "marker": {
             "colorbar": {
              "outlinewidth": 0,
              "ticks": ""
             }
            },
            "type": "scattergl"
           }
          ],
          "scattermapbox": [
           {
            "marker": {
             "colorbar": {
              "outlinewidth": 0,
              "ticks": ""
             }
            },
            "type": "scattermapbox"
           }
          ],
          "scatterpolar": [
           {
            "marker": {
             "colorbar": {
              "outlinewidth": 0,
              "ticks": ""
             }
            },
            "type": "scatterpolar"
           }
          ],
          "scatterpolargl": [
           {
            "marker": {
             "colorbar": {
              "outlinewidth": 0,
              "ticks": ""
             }
            },
            "type": "scatterpolargl"
           }
          ],
          "scatterternary": [
           {
            "marker": {
             "colorbar": {
              "outlinewidth": 0,
              "ticks": ""
             }
            },
            "type": "scatterternary"
           }
          ],
          "surface": [
           {
            "colorbar": {
             "outlinewidth": 0,
             "ticks": ""
            },
            "colorscale": [
             [
              0,
              "#0d0887"
             ],
             [
              0.1111111111111111,
              "#46039f"
             ],
             [
              0.2222222222222222,
              "#7201a8"
             ],
             [
              0.3333333333333333,
              "#9c179e"
             ],
             [
              0.4444444444444444,
              "#bd3786"
             ],
             [
              0.5555555555555556,
              "#d8576b"
             ],
             [
              0.6666666666666666,
              "#ed7953"
             ],
             [
              0.7777777777777778,
              "#fb9f3a"
             ],
             [
              0.8888888888888888,
              "#fdca26"
             ],
             [
              1,
              "#f0f921"
             ]
            ],
            "type": "surface"
           }
          ],
          "table": [
           {
            "cells": {
             "fill": {
              "color": "#EBF0F8"
             },
             "line": {
              "color": "white"
             }
            },
            "header": {
             "fill": {
              "color": "#C8D4E3"
             },
             "line": {
              "color": "white"
             }
            },
            "type": "table"
           }
          ]
         },
         "layout": {
          "annotationdefaults": {
           "arrowcolor": "#2a3f5f",
           "arrowhead": 0,
           "arrowwidth": 1
          },
          "autotypenumbers": "strict",
          "coloraxis": {
           "colorbar": {
            "outlinewidth": 0,
            "ticks": ""
           }
          },
          "colorscale": {
           "diverging": [
            [
             0,
             "#8e0152"
            ],
            [
             0.1,
             "#c51b7d"
            ],
            [
             0.2,
             "#de77ae"
            ],
            [
             0.3,
             "#f1b6da"
            ],
            [
             0.4,
             "#fde0ef"
            ],
            [
             0.5,
             "#f7f7f7"
            ],
            [
             0.6,
             "#e6f5d0"
            ],
            [
             0.7,
             "#b8e186"
            ],
            [
             0.8,
             "#7fbc41"
            ],
            [
             0.9,
             "#4d9221"
            ],
            [
             1,
             "#276419"
            ]
           ],
           "sequential": [
            [
             0,
             "#0d0887"
            ],
            [
             0.1111111111111111,
             "#46039f"
            ],
            [
             0.2222222222222222,
             "#7201a8"
            ],
            [
             0.3333333333333333,
             "#9c179e"
            ],
            [
             0.4444444444444444,
             "#bd3786"
            ],
            [
             0.5555555555555556,
             "#d8576b"
            ],
            [
             0.6666666666666666,
             "#ed7953"
            ],
            [
             0.7777777777777778,
             "#fb9f3a"
            ],
            [
             0.8888888888888888,
             "#fdca26"
            ],
            [
             1,
             "#f0f921"
            ]
           ],
           "sequentialminus": [
            [
             0,
             "#0d0887"
            ],
            [
             0.1111111111111111,
             "#46039f"
            ],
            [
             0.2222222222222222,
             "#7201a8"
            ],
            [
             0.3333333333333333,
             "#9c179e"
            ],
            [
             0.4444444444444444,
             "#bd3786"
            ],
            [
             0.5555555555555556,
             "#d8576b"
            ],
            [
             0.6666666666666666,
             "#ed7953"
            ],
            [
             0.7777777777777778,
             "#fb9f3a"
            ],
            [
             0.8888888888888888,
             "#fdca26"
            ],
            [
             1,
             "#f0f921"
            ]
           ]
          },
          "colorway": [
           "#636efa",
           "#EF553B",
           "#00cc96",
           "#ab63fa",
           "#FFA15A",
           "#19d3f3",
           "#FF6692",
           "#B6E880",
           "#FF97FF",
           "#FECB52"
          ],
          "font": {
           "color": "#2a3f5f"
          },
          "geo": {
           "bgcolor": "white",
           "lakecolor": "white",
           "landcolor": "#E5ECF6",
           "showlakes": true,
           "showland": true,
           "subunitcolor": "white"
          },
          "hoverlabel": {
           "align": "left"
          },
          "hovermode": "closest",
          "mapbox": {
           "style": "light"
          },
          "paper_bgcolor": "white",
          "plot_bgcolor": "#E5ECF6",
          "polar": {
           "angularaxis": {
            "gridcolor": "white",
            "linecolor": "white",
            "ticks": ""
           },
           "bgcolor": "#E5ECF6",
           "radialaxis": {
            "gridcolor": "white",
            "linecolor": "white",
            "ticks": ""
           }
          },
          "scene": {
           "xaxis": {
            "backgroundcolor": "#E5ECF6",
            "gridcolor": "white",
            "gridwidth": 2,
            "linecolor": "white",
            "showbackground": true,
            "ticks": "",
            "zerolinecolor": "white"
           },
           "yaxis": {
            "backgroundcolor": "#E5ECF6",
            "gridcolor": "white",
            "gridwidth": 2,
            "linecolor": "white",
            "showbackground": true,
            "ticks": "",
            "zerolinecolor": "white"
           },
           "zaxis": {
            "backgroundcolor": "#E5ECF6",
            "gridcolor": "white",
            "gridwidth": 2,
            "linecolor": "white",
            "showbackground": true,
            "ticks": "",
            "zerolinecolor": "white"
           }
          },
          "shapedefaults": {
           "line": {
            "color": "#2a3f5f"
           }
          },
          "ternary": {
           "aaxis": {
            "gridcolor": "white",
            "linecolor": "white",
            "ticks": ""
           },
           "baxis": {
            "gridcolor": "white",
            "linecolor": "white",
            "ticks": ""
           },
           "bgcolor": "#E5ECF6",
           "caxis": {
            "gridcolor": "white",
            "linecolor": "white",
            "ticks": ""
           }
          },
          "title": {
           "x": 0.05
          },
          "xaxis": {
           "automargin": true,
           "gridcolor": "white",
           "linecolor": "white",
           "ticks": "",
           "title": {
            "standoff": 15
           },
           "zerolinecolor": "white",
           "zerolinewidth": 2
          },
          "yaxis": {
           "automargin": true,
           "gridcolor": "white",
           "linecolor": "white",
           "ticks": "",
           "title": {
            "standoff": 15
           },
           "zerolinecolor": "white",
           "zerolinewidth": 2
          }
         }
        },
        "title": {
         "text": "LLM Result vs vs just Tesseract"
        },
        "xaxis": {
         "title": {
          "text": "Index"
         }
        },
        "yaxis": {
         "title": {
          "text": "Jaccard Similarity"
         }
        }
       }
      }
     },
     "metadata": {},
     "output_type": "display_data"
    }
   ],
   "source": [
    "# Create the plot\n",
    "fig = go.Figure()\n",
    "\n",
    "# Add trace for LLM results\n",
    "fig.add_trace(go.Scatter(\n",
    "    x=list(range(len(llm_jaccard))),\n",
    "    y=llm_jaccard,\n",
    "    mode='lines+markers',\n",
    "    name='LLM Jaccard Similarity'\n",
    "))\n",
    "\n",
    "# Add trace for mt_jaccard[i, 1]\n",
    "fig.add_trace(go.Scatter(\n",
    "    x=list(range(len(mt_jaccard))),\n",
    "    y=mt_jaccard[:, 1],\n",
    "    mode='lines+markers',\n",
    "    name='Tesseract Jaccard Similarity'\n",
    "))\n",
    "\n",
    "# Update layout\n",
    "fig.update_layout(\n",
    "    title='LLM Result vs vs just Tesseract',\n",
    "    xaxis_title='Index',\n",
    "    yaxis_title='Jaccard Similarity',\n",
    "    legend_title='Legend'\n",
    ")\n",
    "\n",
    "# Show the plot\n",
    "fig.show()"
   ]
  },
  {
   "cell_type": "code",
   "execution_count": 14,
   "metadata": {},
   "outputs": [
    {
     "data": {
      "application/vnd.plotly.v1+json": {
       "config": {
        "plotlyServerURL": "https://plot.ly"
       },
       "data": [
        {
         "mode": "lines+markers",
         "name": "LLM CER Similarity",
         "type": "scatter",
         "x": [
          0,
          1,
          2,
          3,
          4,
          5,
          6,
          7,
          8,
          9,
          10,
          11,
          12
         ],
         "y": [
          0.10596616206589493,
          0.1610738255033557,
          0.17613636363636365,
          0.15384615384615385,
          0.13157894736842105,
          0.1875,
          0.148068669527897,
          0.15513126491646778,
          0.1312803889789303,
          0.020588235294117647,
          0.2861356932153392,
          0.1696562032884903,
          0.10277324632952692
         ]
        },
        {
         "mode": "lines+markers",
         "name": "Tesseract CER Similarity",
         "type": "scatter",
         "x": [
          0,
          1,
          2,
          3,
          4,
          5,
          6,
          7,
          8,
          9,
          10,
          11,
          12
         ],
         "y": [
          0.06881143878462913,
          0.06796116504854369,
          0.2159090909090909,
          0.13286713286713286,
          0.05137844611528822,
          0.1875,
          0.045064377682403435,
          0.12304250559284116,
          0.07212317666126418,
          0.014534883720930232,
          0.2536873156342183,
          0.04110612855007474,
          0.021207177814029365
         ]
        }
       ],
       "layout": {
        "legend": {
         "title": {
          "text": "Legend"
         }
        },
        "template": {
         "data": {
          "bar": [
           {
            "error_x": {
             "color": "#2a3f5f"
            },
            "error_y": {
             "color": "#2a3f5f"
            },
            "marker": {
             "line": {
              "color": "#E5ECF6",
              "width": 0.5
             },
             "pattern": {
              "fillmode": "overlay",
              "size": 10,
              "solidity": 0.2
             }
            },
            "type": "bar"
           }
          ],
          "barpolar": [
           {
            "marker": {
             "line": {
              "color": "#E5ECF6",
              "width": 0.5
             },
             "pattern": {
              "fillmode": "overlay",
              "size": 10,
              "solidity": 0.2
             }
            },
            "type": "barpolar"
           }
          ],
          "carpet": [
           {
            "aaxis": {
             "endlinecolor": "#2a3f5f",
             "gridcolor": "white",
             "linecolor": "white",
             "minorgridcolor": "white",
             "startlinecolor": "#2a3f5f"
            },
            "baxis": {
             "endlinecolor": "#2a3f5f",
             "gridcolor": "white",
             "linecolor": "white",
             "minorgridcolor": "white",
             "startlinecolor": "#2a3f5f"
            },
            "type": "carpet"
           }
          ],
          "choropleth": [
           {
            "colorbar": {
             "outlinewidth": 0,
             "ticks": ""
            },
            "type": "choropleth"
           }
          ],
          "contour": [
           {
            "colorbar": {
             "outlinewidth": 0,
             "ticks": ""
            },
            "colorscale": [
             [
              0,
              "#0d0887"
             ],
             [
              0.1111111111111111,
              "#46039f"
             ],
             [
              0.2222222222222222,
              "#7201a8"
             ],
             [
              0.3333333333333333,
              "#9c179e"
             ],
             [
              0.4444444444444444,
              "#bd3786"
             ],
             [
              0.5555555555555556,
              "#d8576b"
             ],
             [
              0.6666666666666666,
              "#ed7953"
             ],
             [
              0.7777777777777778,
              "#fb9f3a"
             ],
             [
              0.8888888888888888,
              "#fdca26"
             ],
             [
              1,
              "#f0f921"
             ]
            ],
            "type": "contour"
           }
          ],
          "contourcarpet": [
           {
            "colorbar": {
             "outlinewidth": 0,
             "ticks": ""
            },
            "type": "contourcarpet"
           }
          ],
          "heatmap": [
           {
            "colorbar": {
             "outlinewidth": 0,
             "ticks": ""
            },
            "colorscale": [
             [
              0,
              "#0d0887"
             ],
             [
              0.1111111111111111,
              "#46039f"
             ],
             [
              0.2222222222222222,
              "#7201a8"
             ],
             [
              0.3333333333333333,
              "#9c179e"
             ],
             [
              0.4444444444444444,
              "#bd3786"
             ],
             [
              0.5555555555555556,
              "#d8576b"
             ],
             [
              0.6666666666666666,
              "#ed7953"
             ],
             [
              0.7777777777777778,
              "#fb9f3a"
             ],
             [
              0.8888888888888888,
              "#fdca26"
             ],
             [
              1,
              "#f0f921"
             ]
            ],
            "type": "heatmap"
           }
          ],
          "heatmapgl": [
           {
            "colorbar": {
             "outlinewidth": 0,
             "ticks": ""
            },
            "colorscale": [
             [
              0,
              "#0d0887"
             ],
             [
              0.1111111111111111,
              "#46039f"
             ],
             [
              0.2222222222222222,
              "#7201a8"
             ],
             [
              0.3333333333333333,
              "#9c179e"
             ],
             [
              0.4444444444444444,
              "#bd3786"
             ],
             [
              0.5555555555555556,
              "#d8576b"
             ],
             [
              0.6666666666666666,
              "#ed7953"
             ],
             [
              0.7777777777777778,
              "#fb9f3a"
             ],
             [
              0.8888888888888888,
              "#fdca26"
             ],
             [
              1,
              "#f0f921"
             ]
            ],
            "type": "heatmapgl"
           }
          ],
          "histogram": [
           {
            "marker": {
             "pattern": {
              "fillmode": "overlay",
              "size": 10,
              "solidity": 0.2
             }
            },
            "type": "histogram"
           }
          ],
          "histogram2d": [
           {
            "colorbar": {
             "outlinewidth": 0,
             "ticks": ""
            },
            "colorscale": [
             [
              0,
              "#0d0887"
             ],
             [
              0.1111111111111111,
              "#46039f"
             ],
             [
              0.2222222222222222,
              "#7201a8"
             ],
             [
              0.3333333333333333,
              "#9c179e"
             ],
             [
              0.4444444444444444,
              "#bd3786"
             ],
             [
              0.5555555555555556,
              "#d8576b"
             ],
             [
              0.6666666666666666,
              "#ed7953"
             ],
             [
              0.7777777777777778,
              "#fb9f3a"
             ],
             [
              0.8888888888888888,
              "#fdca26"
             ],
             [
              1,
              "#f0f921"
             ]
            ],
            "type": "histogram2d"
           }
          ],
          "histogram2dcontour": [
           {
            "colorbar": {
             "outlinewidth": 0,
             "ticks": ""
            },
            "colorscale": [
             [
              0,
              "#0d0887"
             ],
             [
              0.1111111111111111,
              "#46039f"
             ],
             [
              0.2222222222222222,
              "#7201a8"
             ],
             [
              0.3333333333333333,
              "#9c179e"
             ],
             [
              0.4444444444444444,
              "#bd3786"
             ],
             [
              0.5555555555555556,
              "#d8576b"
             ],
             [
              0.6666666666666666,
              "#ed7953"
             ],
             [
              0.7777777777777778,
              "#fb9f3a"
             ],
             [
              0.8888888888888888,
              "#fdca26"
             ],
             [
              1,
              "#f0f921"
             ]
            ],
            "type": "histogram2dcontour"
           }
          ],
          "mesh3d": [
           {
            "colorbar": {
             "outlinewidth": 0,
             "ticks": ""
            },
            "type": "mesh3d"
           }
          ],
          "parcoords": [
           {
            "line": {
             "colorbar": {
              "outlinewidth": 0,
              "ticks": ""
             }
            },
            "type": "parcoords"
           }
          ],
          "pie": [
           {
            "automargin": true,
            "type": "pie"
           }
          ],
          "scatter": [
           {
            "fillpattern": {
             "fillmode": "overlay",
             "size": 10,
             "solidity": 0.2
            },
            "type": "scatter"
           }
          ],
          "scatter3d": [
           {
            "line": {
             "colorbar": {
              "outlinewidth": 0,
              "ticks": ""
             }
            },
            "marker": {
             "colorbar": {
              "outlinewidth": 0,
              "ticks": ""
             }
            },
            "type": "scatter3d"
           }
          ],
          "scattercarpet": [
           {
            "marker": {
             "colorbar": {
              "outlinewidth": 0,
              "ticks": ""
             }
            },
            "type": "scattercarpet"
           }
          ],
          "scattergeo": [
           {
            "marker": {
             "colorbar": {
              "outlinewidth": 0,
              "ticks": ""
             }
            },
            "type": "scattergeo"
           }
          ],
          "scattergl": [
           {
            "marker": {
             "colorbar": {
              "outlinewidth": 0,
              "ticks": ""
             }
            },
            "type": "scattergl"
           }
          ],
          "scattermapbox": [
           {
            "marker": {
             "colorbar": {
              "outlinewidth": 0,
              "ticks": ""
             }
            },
            "type": "scattermapbox"
           }
          ],
          "scatterpolar": [
           {
            "marker": {
             "colorbar": {
              "outlinewidth": 0,
              "ticks": ""
             }
            },
            "type": "scatterpolar"
           }
          ],
          "scatterpolargl": [
           {
            "marker": {
             "colorbar": {
              "outlinewidth": 0,
              "ticks": ""
             }
            },
            "type": "scatterpolargl"
           }
          ],
          "scatterternary": [
           {
            "marker": {
             "colorbar": {
              "outlinewidth": 0,
              "ticks": ""
             }
            },
            "type": "scatterternary"
           }
          ],
          "surface": [
           {
            "colorbar": {
             "outlinewidth": 0,
             "ticks": ""
            },
            "colorscale": [
             [
              0,
              "#0d0887"
             ],
             [
              0.1111111111111111,
              "#46039f"
             ],
             [
              0.2222222222222222,
              "#7201a8"
             ],
             [
              0.3333333333333333,
              "#9c179e"
             ],
             [
              0.4444444444444444,
              "#bd3786"
             ],
             [
              0.5555555555555556,
              "#d8576b"
             ],
             [
              0.6666666666666666,
              "#ed7953"
             ],
             [
              0.7777777777777778,
              "#fb9f3a"
             ],
             [
              0.8888888888888888,
              "#fdca26"
             ],
             [
              1,
              "#f0f921"
             ]
            ],
            "type": "surface"
           }
          ],
          "table": [
           {
            "cells": {
             "fill": {
              "color": "#EBF0F8"
             },
             "line": {
              "color": "white"
             }
            },
            "header": {
             "fill": {
              "color": "#C8D4E3"
             },
             "line": {
              "color": "white"
             }
            },
            "type": "table"
           }
          ]
         },
         "layout": {
          "annotationdefaults": {
           "arrowcolor": "#2a3f5f",
           "arrowhead": 0,
           "arrowwidth": 1
          },
          "autotypenumbers": "strict",
          "coloraxis": {
           "colorbar": {
            "outlinewidth": 0,
            "ticks": ""
           }
          },
          "colorscale": {
           "diverging": [
            [
             0,
             "#8e0152"
            ],
            [
             0.1,
             "#c51b7d"
            ],
            [
             0.2,
             "#de77ae"
            ],
            [
             0.3,
             "#f1b6da"
            ],
            [
             0.4,
             "#fde0ef"
            ],
            [
             0.5,
             "#f7f7f7"
            ],
            [
             0.6,
             "#e6f5d0"
            ],
            [
             0.7,
             "#b8e186"
            ],
            [
             0.8,
             "#7fbc41"
            ],
            [
             0.9,
             "#4d9221"
            ],
            [
             1,
             "#276419"
            ]
           ],
           "sequential": [
            [
             0,
             "#0d0887"
            ],
            [
             0.1111111111111111,
             "#46039f"
            ],
            [
             0.2222222222222222,
             "#7201a8"
            ],
            [
             0.3333333333333333,
             "#9c179e"
            ],
            [
             0.4444444444444444,
             "#bd3786"
            ],
            [
             0.5555555555555556,
             "#d8576b"
            ],
            [
             0.6666666666666666,
             "#ed7953"
            ],
            [
             0.7777777777777778,
             "#fb9f3a"
            ],
            [
             0.8888888888888888,
             "#fdca26"
            ],
            [
             1,
             "#f0f921"
            ]
           ],
           "sequentialminus": [
            [
             0,
             "#0d0887"
            ],
            [
             0.1111111111111111,
             "#46039f"
            ],
            [
             0.2222222222222222,
             "#7201a8"
            ],
            [
             0.3333333333333333,
             "#9c179e"
            ],
            [
             0.4444444444444444,
             "#bd3786"
            ],
            [
             0.5555555555555556,
             "#d8576b"
            ],
            [
             0.6666666666666666,
             "#ed7953"
            ],
            [
             0.7777777777777778,
             "#fb9f3a"
            ],
            [
             0.8888888888888888,
             "#fdca26"
            ],
            [
             1,
             "#f0f921"
            ]
           ]
          },
          "colorway": [
           "#636efa",
           "#EF553B",
           "#00cc96",
           "#ab63fa",
           "#FFA15A",
           "#19d3f3",
           "#FF6692",
           "#B6E880",
           "#FF97FF",
           "#FECB52"
          ],
          "font": {
           "color": "#2a3f5f"
          },
          "geo": {
           "bgcolor": "white",
           "lakecolor": "white",
           "landcolor": "#E5ECF6",
           "showlakes": true,
           "showland": true,
           "subunitcolor": "white"
          },
          "hoverlabel": {
           "align": "left"
          },
          "hovermode": "closest",
          "mapbox": {
           "style": "light"
          },
          "paper_bgcolor": "white",
          "plot_bgcolor": "#E5ECF6",
          "polar": {
           "angularaxis": {
            "gridcolor": "white",
            "linecolor": "white",
            "ticks": ""
           },
           "bgcolor": "#E5ECF6",
           "radialaxis": {
            "gridcolor": "white",
            "linecolor": "white",
            "ticks": ""
           }
          },
          "scene": {
           "xaxis": {
            "backgroundcolor": "#E5ECF6",
            "gridcolor": "white",
            "gridwidth": 2,
            "linecolor": "white",
            "showbackground": true,
            "ticks": "",
            "zerolinecolor": "white"
           },
           "yaxis": {
            "backgroundcolor": "#E5ECF6",
            "gridcolor": "white",
            "gridwidth": 2,
            "linecolor": "white",
            "showbackground": true,
            "ticks": "",
            "zerolinecolor": "white"
           },
           "zaxis": {
            "backgroundcolor": "#E5ECF6",
            "gridcolor": "white",
            "gridwidth": 2,
            "linecolor": "white",
            "showbackground": true,
            "ticks": "",
            "zerolinecolor": "white"
           }
          },
          "shapedefaults": {
           "line": {
            "color": "#2a3f5f"
           }
          },
          "ternary": {
           "aaxis": {
            "gridcolor": "white",
            "linecolor": "white",
            "ticks": ""
           },
           "baxis": {
            "gridcolor": "white",
            "linecolor": "white",
            "ticks": ""
           },
           "bgcolor": "#E5ECF6",
           "caxis": {
            "gridcolor": "white",
            "linecolor": "white",
            "ticks": ""
           }
          },
          "title": {
           "x": 0.05
          },
          "xaxis": {
           "automargin": true,
           "gridcolor": "white",
           "linecolor": "white",
           "ticks": "",
           "title": {
            "standoff": 15
           },
           "zerolinecolor": "white",
           "zerolinewidth": 2
          },
          "yaxis": {
           "automargin": true,
           "gridcolor": "white",
           "linecolor": "white",
           "ticks": "",
           "title": {
            "standoff": 15
           },
           "zerolinecolor": "white",
           "zerolinewidth": 2
          }
         }
        },
        "title": {
         "text": "LLM Result vs just Tesseract"
        },
        "xaxis": {
         "title": {
          "text": "Index"
         }
        },
        "yaxis": {
         "title": {
          "text": "CER Similarity"
         }
        }
       }
      }
     },
     "metadata": {},
     "output_type": "display_data"
    }
   ],
   "source": [
    "# Create the plot\n",
    "fig = go.Figure()\n",
    "\n",
    "# Add trace for LLM results\n",
    "fig.add_trace(go.Scatter(\n",
    "    x=list(range(len(llm_cer))),\n",
    "    y=llm_cer,\n",
    "    mode='lines+markers',\n",
    "    name='LLM CER Similarity'\n",
    "))\n",
    "\n",
    "# Add trace for mt_cer[i, 1]\n",
    "fig.add_trace(go.Scatter(\n",
    "    x=list(range(len(mt_cer))),\n",
    "    y=mt_cer[:, 1],\n",
    "    mode='lines+markers',\n",
    "    name='Tesseract CER Similarity'\n",
    "))\n",
    "\n",
    "# Update layout\n",
    "fig.update_layout(\n",
    "    title='LLM Result vs just Tesseract',\n",
    "    xaxis_title='Index',\n",
    "    yaxis_title='CER Similarity',\n",
    "    legend_title='Legend'\n",
    ")\n",
    "\n",
    "# Show the plot\n",
    "fig.show()"
   ]
  }
 ],
 "metadata": {
  "kernelspec": {
   "display_name": "base",
   "language": "python",
   "name": "python3"
  },
  "language_info": {
   "codemirror_mode": {
    "name": "ipython",
    "version": 3
   },
   "file_extension": ".py",
   "mimetype": "text/x-python",
   "name": "python",
   "nbconvert_exporter": "python",
   "pygments_lexer": "ipython3",
   "version": "3.12.2"
  }
 },
 "nbformat": 4,
 "nbformat_minor": 2
}
