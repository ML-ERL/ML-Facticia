{
 "cells": [
  {
   "cell_type": "markdown",
   "metadata": {},
   "source": [
    "# Model Training"
   ]
  },
  {
   "cell_type": "code",
   "execution_count": null,
   "metadata": {},
   "outputs": [],
   "source": [
    "# Preload basic model\n",
    "\n",
    "from ultralytics import YOLO\n",
    "\n",
    "model = YOLO(\"yolo11n-obb.pt\")\n",
    "\n",
    "# Load datasets\n",
    "\n",
    "from dataset_loader import get_dataset_from_file, clear\n",
    "\n",
    "data_path = \"../dataset/facticia_3\"\n",
    "clear()\n",
    "get_dataset_from_file(data_path)  # Import dataset from file\n",
    "\n",
    "# Train model\n",
    "\n",
    "dataset = \"../dataset/data.yaml\"\n",
    "\n",
    "model.train(\n",
    "    data=dataset,\n",
    "    project=\"C:\\Osvaldo/4.1/Machine Learning/ML-Facticia/dataset/training\",\n",
    "    name=\"cf_erl\",\n",
    ")\n",
    "\n",
    "# results = model.val()"
   ]
  }
 ],
 "metadata": {
  "kernelspec": {
   "display_name": "base",
   "language": "python",
   "name": "python3"
  },
  "language_info": {
   "codemirror_mode": {
    "name": "ipython",
    "version": 3
   },
   "file_extension": ".py",
   "mimetype": "text/x-python",
   "name": "python",
   "nbconvert_exporter": "python",
   "pygments_lexer": "ipython3",
   "version": "3.12.2"
  }
 },
 "nbformat": 4,
 "nbformat_minor": 2
}
